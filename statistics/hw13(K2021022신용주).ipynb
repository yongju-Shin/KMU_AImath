{
  "nbformat": 4,
  "nbformat_minor": 0,
  "metadata": {
    "colab": {
      "provenance": []
    },
    "kernelspec": {
      "name": "python3",
      "display_name": "Python 3"
    },
    "language_info": {
      "name": "python"
    }
  },
  "cells": [
    {
      "cell_type": "markdown",
      "metadata": {
        "id": "X4f0mNv7l5Z9"
      },
      "source": [
        "# 인공지능수학: 통계학\n",
        "# 숙제 13 (HW 13)\n"
      ]
    },
    {
      "cell_type": "markdown",
      "metadata": {
        "id": "bnNLmwKkg-w0"
      },
      "source": [
        "이름: 신용주\n",
        "\n",
        "학번: K2021022\n",
        "\n",
        "# 아래 문제를 해결하는 코드를 작성하고, 그 결과를 쓰시오."
      ]
    },
    {
      "cell_type": "markdown",
      "metadata": {
        "id": "HfFE8w4IoKu1"
      },
      "source": [
        "1. 어떤 농장에서 생산된 계란 35 개의 표본을\n",
        "뽑아서 아래 변수 w에 저장하였다. 계란의 평균 무게에 대한 95% 신뢰 구간을\n",
        "구하시오."
      ]
    },
    {
      "cell_type": "code",
      "metadata": {
        "id": "vQBQVisp0l2R"
      },
      "source": [
        "w=[22,\n",
        " 24,\n",
        " 23,\n",
        " 22,\n",
        " 21,\n",
        " 27,\n",
        " 26,\n",
        " 27,\n",
        " 25,\n",
        " 29,\n",
        " 21,\n",
        " 25,\n",
        " 28,\n",
        " 26,\n",
        " 20,\n",
        " 21,\n",
        " 25,\n",
        " 20,\n",
        " 28,\n",
        " 23,\n",
        " 26,\n",
        " 20,\n",
        " 21,\n",
        " 27,\n",
        " 24,\n",
        " 28,\n",
        " 25,\n",
        " 26,\n",
        " 20,\n",
        " 24]"
      ],
      "execution_count": null,
      "outputs": []
    },
    {
      "cell_type": "code",
      "metadata": {
        "id": "dp94sN9o1Ncp",
        "colab": {
          "base_uri": "https://localhost:8080/"
        },
        "outputId": "77ba993f-3aac-471e-ae9e-7eae261e4037"
      },
      "source": [
        "# 여기에 코드를 작성하시오.\n",
        "import numpy as np\n",
        "xbar=np.mean(w)\n",
        "sd=np.std(w, ddof=1)\n",
        "print(\"평균 %.2f,표준편차:%.2f\"%(xbar,sd))\n",
        "import scipy.stats\n",
        "alpha=0.05\n",
        "zalpha=scipy.stats.norm.ppf(1-alpha/2)\n",
        "print(\"zalpha:\",zalpha)\n",
        "print((24.13-0.475 , 24.13+0.475))"
      ],
      "execution_count": null,
      "outputs": [
        {
          "output_type": "stream",
          "text": [
            "평균 24.13,표준편차:2.81\n",
            "zalpha: 1.959963984540054\n",
            "(23.654999999999998, 24.605)\n"
          ],
          "name": "stdout"
        }
      ]
    },
    {
      "cell_type": "markdown",
      "metadata": {
        "id": "3c9lvdLx2NMZ"
      },
      "source": [
        "(23.655 , 24.605)"
      ]
    },
    {
      "cell_type": "markdown",
      "metadata": {
        "id": "pWtSudYl1TkI"
      },
      "source": [
        "2. 어떤 정책에 대한 찬성율을 조사하기 위해 783명을\n",
        "랜덤하게 선택하여 찬성 여부를 조사하였는데, 이 중 475 명이 찬성하였다. 찬성율 𝑝의 95% 신뢰구간 (confidence interval) 을 구하시오."
      ]
    },
    {
      "cell_type": "markdown",
      "metadata": {
        "id": "pCKEYsJcbO_7"
      },
      "source": []
    },
    {
      "cell_type": "code",
      "metadata": {
        "id": "nHo3sfpy2rbS",
        "colab": {
          "base_uri": "https://localhost:8080/"
        },
        "outputId": "93963f8c-aaa0-4e64-a8d6-c4031f81a1ae"
      },
      "source": [
        "# 2.번 문제에 대한 코드\n",
        "import numpy as np\n",
        "import scipy.stats\n",
        "x=475\n",
        "n=783\n",
        "phat = x / n \n",
        "alpha=0.05\n",
        "xalpha = scipy.stats.norm.ppf(1-alpha/2)\n",
        "sd=np.sqrt(phat*(1-phat)/n)\n",
        "print(\"phat%.3f,zalpha:%.3f,sd:%.3f\"%(phat,zalpha,sd))\n",
        "ci=[phat-zalpha*sd,phat+zalpha*sd]\n",
        "print(ci)\n"
      ],
      "execution_count": null,
      "outputs": [
        {
          "output_type": "stream",
          "text": [
            "phat0.607,zalpha:1.960,sd:0.017\n",
            "[0.5724252520070054, 0.640856995758001]\n"
          ],
          "name": "stdout"
        }
      ]
    },
    {
      "cell_type": "markdown",
      "metadata": {
        "id": "2p3CR9Yk2tXZ"
      },
      "source": [
        "(0.572 , 0.640 )"
      ]
    },
    {
      "cell_type": "markdown",
      "metadata": {
        "id": "FzkQfGgw2_u3"
      },
      "source": [
        "3. 위 1번의 문제에서 계란의 평균 무게는 23.5 그램으로 알려져 있다 . 새로운 사료를 도입한 후에 생산된 계란 35 개의 무게가 위 1번 문제의 w 변수에 저장된 것이라면, 새로운 사료가 평균적으로 더 무거운 계란을 생산한다고 할 수 있는가? 유의수준 5%로 검정하시오."
      ]
    },
    {
      "cell_type": "code",
      "metadata": {
        "id": "nC9k5D6c3RDB",
        "colab": {
          "base_uri": "https://localhost:8080/"
        },
        "outputId": "a8ad4f91-e8a9-4156-9503-37ddf38a7d6d"
      },
      "source": [
        "# 코드 작성\n",
        "import numpy as np \n",
        "w=[22,24,23,22,21,27,26,27,25,29,21,25,28,26,20,21,25,20,28,23,26,20,21,27,24,28,25,26,20,24]\n",
        "mu=23.5\n",
        "xbar=np.mean(w)\n",
        "sd=np.std(w, ddof=1)\n",
        "print(\"평균%.2f, 표준편차:%.2f\"%(xbar, sd))\n",
        "z=(xbar-mu)/(sd/np.sqrt(len(w)))\n",
        "print(\"검정통계량:\",z)\n",
        "alpha=0.05\n",
        "import scipy.stats\n",
        "cri = scipy.stats.norm.ppf(1-alpha/2)\n",
        "print(\"임계값:\",cri)"
      ],
      "execution_count": null,
      "outputs": [
        {
          "output_type": "stream",
          "text": [
            "평균24.13, 표준편차:2.81\n",
            "검정통계량: 1.233196175191864\n",
            "임계값: 1.959963984540054\n"
          ],
          "name": "stdout"
        }
      ]
    },
    {
      "cell_type": "markdown",
      "metadata": {
        "id": "7hGGAPUV4APp"
      },
      "source": [
        "귀무가설을 기각할 수 없다."
      ]
    }
  ]
}