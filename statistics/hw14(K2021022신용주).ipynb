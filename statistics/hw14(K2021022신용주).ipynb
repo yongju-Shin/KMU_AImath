{
  "nbformat": 4,
  "nbformat_minor": 0,
  "metadata": {
    "colab": {
      "provenance": []
    },
    "kernelspec": {
      "name": "python3",
      "display_name": "Python 3"
    },
    "language_info": {
      "name": "python"
    }
  },
  "cells": [
    {
      "cell_type": "markdown",
      "metadata": {
        "id": "X4f0mNv7l5Z9"
      },
      "source": [
        "# 인공지능수학: 통계학\n",
        "# 숙제 14 (HW 14)\n"
      ]
    },
    {
      "cell_type": "markdown",
      "metadata": {
        "id": "bnNLmwKkg-w0"
      },
      "source": [
        "이름: 신용주\n",
        "\n",
        "학번: K2021022"
      ]
    },
    {
      "cell_type": "markdown",
      "metadata": {
        "id": "pbLlVl0m64P4"
      },
      "source": [
        "1. 어떤 확률 변수에 대한 확률분포가 아래 변수 $P$와 같이 주어져 있다. 이 확률분포의 엔트로피 (entropy)를 비트로 계산하시오."
      ]
    },
    {
      "cell_type": "markdown",
      "metadata": {
        "id": "9U02PopNa1eu"
      },
      "source": []
    },
    {
      "cell_type": "code",
      "metadata": {
        "id": "Y0dOGSvTAg5X"
      },
      "source": [
        "P=[0.25, 0.1, 0.25, 0.1, 0.18, 0.12]"
      ],
      "execution_count": null,
      "outputs": []
    },
    {
      "cell_type": "code",
      "metadata": {
        "id": "Pupy6Hq1AWxy",
        "colab": {
          "base_uri": "https://localhost:8080/"
        },
        "outputId": "9e68e20c-32bf-4871-8f69-67ce0b7d5dae"
      },
      "source": [
        "import numpy as np\n",
        "A=-(np.log(0.25))\n",
        "B=-(np.log(0.1))\n",
        "C=-(np.log(0.25))\n",
        "D=-(np.log(0.1))\n",
        "E=-(np.log(0.18))\n",
        "F=-(np.log(0.12))\n",
        "print(\"A\",A)\n",
        "print(\"B\",B)\n",
        "print(\"C\",C)\n",
        "print(\"D\",D)\n",
        "print(\"E\",E)\n",
        "print(\"F\",F)\n",
        "\n",
        "EB=(1*0.25)+(2*0.1)+(1*0.25)+(2*0.1)+(1*0.18)+(2*0.12)\n",
        "print(\"EB\",EB)\n"
      ],
      "execution_count": null,
      "outputs": [
        {
          "output_type": "stream",
          "text": [
            "A 1.3862943611198906\n",
            "B 2.3025850929940455\n",
            "C 1.3862943611198906\n",
            "D 2.3025850929940455\n",
            "E 1.7147984280919266\n",
            "F 2.120263536200091\n",
            "EB 1.3199999999999998\n"
          ],
          "name": "stdout"
        }
      ]
    },
    {
      "cell_type": "markdown",
      "metadata": {
        "id": "Os5wg8TcAYyf"
      },
      "source": [
        "1.31999999999998"
      ]
    },
    {
      "cell_type": "markdown",
      "metadata": {
        "id": "HfFE8w4IoKu1"
      },
      "source": [
        "2. 아래는 2개의 확률 분포를 각각 변수 $P$와 $Q$에 저장하였다. 확률분포 $P$에 대한 확률분포 $Q$의 교차 엔트로피를 계산하시오."
      ]
    },
    {
      "cell_type": "code",
      "metadata": {
        "id": "B-ViEs2k6BIR"
      },
      "source": [
        "P=[0.35, 0.25, 0.1, 0.18, 0.12]\n",
        "Q=[0.32, 0.23, 0.11, 0.20, 0.14]"
      ],
      "execution_count": null,
      "outputs": []
    },
    {
      "cell_type": "code",
      "metadata": {
        "id": "v7ML_4xX6iiQ",
        "colab": {
          "base_uri": "https://localhost:8080/"
        },
        "outputId": "b721fc13-d70f-4845-b7f8-b4b325ef40c5"
      },
      "source": [
        "# 여기에 코드를 작성하시오\n",
        "import numpy as np \n",
        "def crossentropy(P,Q):\n",
        "  return sum([-P[i]*np.log2(Q[i]) for i in range(len(P))])\n",
        "\n",
        "print(crossentropy(P,Q))"
      ],
      "execution_count": null,
      "outputs": [
        {
          "output_type": "stream",
          "text": [
            "2.182192891170104\n"
          ],
          "name": "stdout"
        }
      ]
    },
    {
      "cell_type": "markdown",
      "metadata": {
        "id": "WXh5F0qe6lCw"
      },
      "source": [
        "2.182192891170104"
      ]
    },
    {
      "cell_type": "markdown",
      "metadata": {
        "id": "8p2zJ4qkOKQ3"
      },
      "source": []
    }
  ]
}