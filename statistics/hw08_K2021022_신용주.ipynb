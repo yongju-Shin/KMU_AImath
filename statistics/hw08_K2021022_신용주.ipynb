{
  "nbformat": 4,
  "nbformat_minor": 0,
  "metadata": {
    "colab": {
      "provenance": []
    },
    "kernelspec": {
      "name": "python3",
      "display_name": "Python 3"
    },
    "language_info": {
      "name": "python"
    }
  },
  "cells": [
    {
      "cell_type": "markdown",
      "metadata": {
        "id": "V5c7bw04RMch"
      },
      "source": [
        "# 인공지능수학: 통계학\n",
        "# 숙제 08 (HW08)"
      ]
    },
    {
      "cell_type": "code",
      "metadata": {
        "id": "7Gp8Pt2k2CXq"
      },
      "source": [
        "import statistics\n",
        "import scipy\n",
        "import numpy\n",
        "import random\n",
        "random.seed(2021)\n",
        "a = [random.randrange(10, 1000) for i in range(100)]\n"
      ],
      "execution_count": null,
      "outputs": []
    },
    {
      "cell_type": "markdown",
      "metadata": {
        "id": "LNqRsV4RQYia"
      },
      "source": [
        "아래에서 제시하는 내용을 출력하는 코드를 작성하세요. \n",
        "\n",
        "* mean, 평균\n",
        "\n",
        "* median, 중간값\n",
        "\n",
        "* population variance, 모 분산\n",
        "\n",
        "* sample variance, 표본 분산\n",
        "\n",
        "* population standard deviation, 모 표준편차\n",
        "\n",
        "* sample standard deviation, 표본 표준편차\n",
        "\n",
        "* range, 범위\n",
        "\n",
        "* Q1, 제 1사분위수\n",
        "\n",
        "* Q3, 제 3사분위수\n",
        "\n",
        "* IQR, 사분위수범위"
      ]
    },
    {
      "cell_type": "code",
      "metadata": {
        "colab": {
          "base_uri": "https://localhost:8080/"
        },
        "id": "qBy-izFyQ1p5",
        "outputId": "dc4d11ab-6c15-43d4-ea55-3150ff94ab6c"
      },
      "source": [
        "#여기에 코드를 추가하세요\n",
        "print(\"평균 = \", statistics.mean(a))\n",
        "print(\"중간값 = \",statistics.median(a))\n",
        "print(\"표본 분산 = \", statistics.variance(a))\n",
        "print(\"모분산 = \",statistics.pvariance(a))\n",
        "print(\"표본 표준편차 = \",statistics.stdev(a))\n",
        "print(\"모 표준편차 = \",statistics.pstdev(a))\n",
        "print(\"범위 = \", max(a)-min(a))\n",
        "print(\"제 1 사분위수 = \",numpy.quantile(a, .25))\n",
        "print(\"제 3 사분위수 = \",numpy.quantile(a, .75))\n",
        "print(\"사분위수범위 = \",numpy.quantile(a, .75)-numpy.quantile(a,.25))"
      ],
      "execution_count": null,
      "outputs": [
        {
          "output_type": "stream",
          "text": [
            "평균 =  485.99\n",
            "중간값 =  484.5\n",
            "표본 분산 =  78728.41404040404\n",
            "모분산 =  77941.1299\n",
            "표본 표준편차 =  280.5858407696369\n",
            "모 표준편차 =  279.1793865957872\n",
            "범위 =  978\n",
            "제 1 사분위수 =  254.5\n",
            "제 3 사분위수 =  709.5\n",
            "사분위수범위 =  455.0\n"
          ],
          "name": "stdout"
        }
      ]
    }
  ]
}