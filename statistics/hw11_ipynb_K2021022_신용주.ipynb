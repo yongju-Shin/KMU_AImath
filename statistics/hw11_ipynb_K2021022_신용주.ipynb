{
  "nbformat": 4,
  "nbformat_minor": 0,
  "metadata": {
    "colab": {
      "provenance": []
    },
    "kernelspec": {
      "name": "python3",
      "display_name": "Python 3"
    },
    "language_info": {
      "name": "python"
    }
  },
  "cells": [
    {
      "cell_type": "markdown",
      "metadata": {
        "id": "X4f0mNv7l5Z9"
      },
      "source": [
        "# 인공지능수학: 통계학\n",
        "# 숙제 11 (HW 11)\n",
        "\n",
        "아래 문제를 풀어서 제출하시오."
      ]
    },
    {
      "cell_type": "markdown",
      "metadata": {
        "id": "HfFE8w4IoKu1"
      },
      "source": [
        "1. 어느 큰 항공회사는 국내선의 경우 자기 회사 항공권을 예약한 승객 중 10% 정도가 도중에 예약을 취소한다는 사실을 과거의 경험으로 알았다. 어느 특정한 날의 항공권을 예약한 승객이 1,000명이라면 이중 몇 명 정도가 도중에 예약을 취소한다고 기대되는가? 예약을 취소하는 승객 수의 표준편차는 얼마인가? \n",
        "이 문제에 대한 답을 구하는 python 코드를 작성하시오. \n"
      ]
    },
    {
      "cell_type": "code",
      "metadata": {
        "id": "UE3mT30z3NFI",
        "colab": {
          "base_uri": "https://localhost:8080/"
        },
        "outputId": "0f46ddf5-4d0f-4da0-a69d-b58b3eeb313b"
      },
      "source": [
        "from scipy import stats\n",
        "a=stats.binom.cdf(100, n=1000, p= 0.1)\n",
        "b=stats.binom.stats(n=1000, p=0.1)\n",
        "print(a)\n",
        "print(b)"
      ],
      "execution_count": null,
      "outputs": [
        {
          "output_type": "stream",
          "text": [
            "0.5265990812946334\n",
            "(array(100.), array(90.))\n"
          ],
          "name": "stdout"
        }
      ]
    },
    {
      "cell_type": "markdown",
      "metadata": {
        "id": "Ky11qBaq3NuX"
      },
      "source": [
        "2. 평균이 20이고, 표준편차가 5인 정규 분포에서 다음 각 확률을 구하는 python 코드를 작성하시오. \n",
        " * $P[X \\ge 30]$\n",
        " * $P[X < 15]$\n",
        " * $P[10 <X < 25]$\n"
      ]
    },
    {
      "cell_type": "code",
      "metadata": {
        "id": "dA3GyQif3it_",
        "colab": {
          "base_uri": "https://localhost:8080/"
        },
        "outputId": "85edefe5-6c80-4663-fb66-ff8b56569f3d"
      },
      "source": [
        "A=stats.norm.cdf(30, loc=20, scale=5)\n",
        "B=stats.norm.cdf(14, loc=20, scale=5)\n",
        "C=stats.norm.cdf(24, loc=20, scale=5)-stats.norm.cdf(9, loc=20, scale=5)\n",
        "\n",
        "print(A)\n",
        "print(B)\n",
        "print(C)"
      ],
      "execution_count": null,
      "outputs": [
        {
          "output_type": "stream",
          "text": [
            "0.9772498680518208\n",
            "0.11506967022170822\n",
            "0.7742411539031048\n"
          ],
          "name": "stdout"
        }
      ]
    },
    {
      "cell_type": "markdown",
      "metadata": {
        "id": "M8ngTq3e3jKn"
      },
      "source": [
        "3. 어느 편의점에 시간당 방문자 수는 평균이 10 ($\\lambda = 10$)인 포아송 분포를 따른다고 한다. 다음 각 확률을 구하는 python 코드를 작성하시오. \n",
        " * $P[X\\le 5]$\n",
        " * $P[7 \\le X < 14]$\n",
        " * $P[X \\ge 9]$"
      ]
    },
    {
      "cell_type": "code",
      "metadata": {
        "id": "og-BmTvm4Ny5",
        "colab": {
          "base_uri": "https://localhost:8080/"
        },
        "outputId": "faeebbbc-26a9-4e62-82b2-a89eb3db681e"
      },
      "source": [
        "A=stats.poisson.cdf(5, mu=10)\n",
        "B=stats.poisson.cdf(13, mu=10)-stats.poisson.cdf(7, mu=10)\n",
        "C=stats.poisson.cdf(9, mu=10)\n",
        "\n",
        "print(A)\n",
        "print(B)\n",
        "print(C)"
      ],
      "execution_count": null,
      "outputs": [
        {
          "output_type": "stream",
          "text": [
            "0.06708596287903189\n",
            "0.6442437760176118\n",
            "0.4579297144718523\n"
          ],
          "name": "stdout"
        }
      ]
    },
    {
      "cell_type": "markdown",
      "metadata": {
        "id": "HmcUQn1I4QzX"
      },
      "source": [
        "4. 위 3. 번 문제에서 첫번째 접속자가 10분 이내에 올 확률을 계산하는 python 코드를 작성하시오."
      ]
    },
    {
      "cell_type": "code",
      "metadata": {
        "id": "T2p2d5V74bIg",
        "colab": {
          "base_uri": "https://localhost:8080/"
        },
        "outputId": "9e7dad3b-00cf-4630-bc3b-c5569e187d44"
      },
      "source": [
        "stats.expon.cdf(1/6,scale=1/10)"
      ],
      "execution_count": null,
      "outputs": [
        {
          "output_type": "execute_result",
          "data": {
            "text/plain": [
              "0.8111243971624381"
            ]
          },
          "metadata": {
            "tags": []
          },
          "execution_count": 26
        }
      ]
    }
  ]
}