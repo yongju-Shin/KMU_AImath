{
  "nbformat": 4,
  "nbformat_minor": 0,
  "metadata": {
    "colab": {
      "provenance": []
    },
    "kernelspec": {
      "name": "python3",
      "display_name": "Python 3"
    },
    "language_info": {
      "name": "python"
    }
  },
  "cells": [
    {
      "cell_type": "markdown",
      "metadata": {
        "id": "X4f0mNv7l5Z9"
      },
      "source": [
        "# 인공지능수학: 통계학\n",
        "# 숙제 12 (HW 12)\n"
      ]
    },
    {
      "cell_type": "markdown",
      "metadata": {
        "id": "bnNLmwKkg-w0"
      },
      "source": [
        "이름: 신용주\n",
        "\n",
        "\n",
        "학번: K2021022"
      ]
    },
    {
      "cell_type": "markdown",
      "metadata": {
        "id": "HfFE8w4IoKu1"
      },
      "source": [
        "1. 다음과 같은 작업을 하는 python3 코드를 작성하시오. \n",
        " *  평균이 5인 ($\\lambda=1/5$) 인 지수분포 (Exponential Distribution)를 따르는 random number를 7개 생성하여 평균을 계산하는데, 이 과정을 20,000 번 시행하여 계산된 20,000개의 평균들에 대해 전체 $[0, 15]$인 구간을 0.2단위로 구분하여 히스토그램을 그린다.\n"
      ]
    },
    {
      "cell_type": "code",
      "metadata": {
        "id": "UE3mT30z3NFI"
      },
      "source": [
        "import numpy as np\n",
        "import matplotlib as plt\n",
        "n=7\n"
      ],
      "execution_count": null,
      "outputs": []
    },
    {
      "cell_type": "code",
      "metadata": {
        "colab": {
          "base_uri": "https://localhost:8080/",
          "height": 282
        },
        "id": "5FWkTBX_ieVt",
        "outputId": "d9b1842c-4323-49c2-f6ca-cc9470fe6ff2"
      },
      "source": [
        "xbars=[np.mean(np.random.rand(n)*10)for i in range(20000)]\n",
        "print(\"mean%f,var%f\"%(np.mean(xbars),np.var(xbars)))\n",
        "h=plt.pyplot.hist(xbars,range=(0,15),bins=40)"
      ],
      "execution_count": null,
      "outputs": [
        {
          "output_type": "stream",
          "text": [
            "mean4.999200,var1.173638\n"
          ],
          "name": "stdout"
        },
        {
          "output_type": "display_data",
          "data": {
            "image/png": "[encoded data removed]",
            "text/plain": [
              "<Figure size 432x288 with 1 Axes>"
            ]
          },
          "metadata": {
            "tags": [],
            "needs_background": "light"
          }
        }
      ]
    }
  ]
}