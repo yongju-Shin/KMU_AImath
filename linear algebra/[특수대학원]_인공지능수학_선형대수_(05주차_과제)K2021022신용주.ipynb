{
  "nbformat": 4,
  "nbformat_minor": 0,
  "metadata": {
    "colab": {
      "provenance": []
    },
    "kernelspec": {
      "name": "python3",
      "display_name": "Python 3"
    }
  },
  "cells": [
    {
      "cell_type": "markdown",
      "metadata": {
        "id": "Fn6NoDwPmhNs"
      },
      "source": [
        "# 과제 목표\n",
        "\n",
        "파이썬 numpy 패키지를 이용해 1) 좌표계 변환과 2) 표준행렬을 이용해 선형변환을 수행하는 코드를 작성합니다."
      ]
    },
    {
      "cell_type": "code",
      "metadata": {
        "id": "kvcJK1GfTqxA"
      },
      "source": [
        "import numpy as np\n",
        "import numpy.linalg"
      ],
      "execution_count": null,
      "outputs": []
    },
    {
      "cell_type": "markdown",
      "metadata": {
        "id": "YT7lLpnEH6ec"
      },
      "source": [
        "## 1) 좌표계 변환\n",
        "\n",
        "3-벡터 $\\mathbf{v}$가 표준좌표계에서 다음과 같이 표현된다고 한다.\n",
        "$$\\mathbf{v} = \n",
        "\\left[\n",
        "\\begin{array}{rrr}\n",
        " 3 \\\\\n",
        " 4 \\\\\n",
        " 4\n",
        "\\end{array}\n",
        "\\right]\n",
        "$$\n",
        "\n",
        "다음의 두 벡터 $\\mathbf{v}_1$과 $\\mathbf{v}_2$를 기저벡터로 하는 새로운 좌표계를 도입했을 때, 3-벡터 $\\mathbf{v}$의 좌표값을 구하고자 한다.\n",
        "\n",
        "$$\n",
        "\\mathbf{v}_1 = \n",
        "\\left[\n",
        "\\begin{array}{rrr}\n",
        " 1 \\\\\n",
        " 3 \\\\\n",
        " 1\n",
        "\\end{array}\n",
        "\\right],\n",
        "\\quad\n",
        "\\mathbf{v} = \n",
        "\\left[\n",
        "\\begin{array}{rrr}\n",
        " 1 \\\\\n",
        "-2 \\\\\n",
        " 2\n",
        "\\end{array}\n",
        "\\right]\n",
        "$$\n",
        "\n",
        "이를 해결하는 numpy 코드를 작성하시오."
      ]
    },
    {
      "cell_type": "markdown",
      "metadata": {
        "id": "c5NSOxVXSrH9"
      },
      "source": [
        "### 문제 정의\n",
        "\n",
        "이 문제는 다음 수식을 만족하는 $x_1$, $x_2$를 구하면 해결되는 문제이다.\n",
        "\n",
        "$$\n",
        "x_1 \n",
        "\\left[\n",
        "\\begin{array}{rrr}\n",
        " 1 \\\\\n",
        " 3 \\\\\n",
        " 1\n",
        "\\end{array}\n",
        "\\right]\n",
        "+\n",
        "x_2\n",
        "\\left[\n",
        "\\begin{array}{rrr}\n",
        " 1 \\\\\n",
        "-2 \\\\\n",
        " 2\n",
        "\\end{array}\n",
        "\\right]\n",
        "=\n",
        "3\n",
        "\\left[\n",
        "\\begin{array}{rrr}\n",
        " 1 \\\\\n",
        " 0 \\\\\n",
        " 0\n",
        "\\end{array}\n",
        "\\right]\n",
        "+\n",
        "4\n",
        "\\left[\n",
        "\\begin{array}{rrr}\n",
        " 0 \\\\\n",
        " 1 \\\\\n",
        " 0\n",
        "\\end{array}\n",
        "\\right]\n",
        "+\n",
        "4\n",
        "\\left[\n",
        "\\begin{array}{rrr}\n",
        " 0 \\\\\n",
        " 0 \\\\\n",
        " 1\n",
        "\\end{array}\n",
        "\\right]\n",
        "= \n",
        "\\left[\n",
        "\\begin{array}{rrr}\n",
        " 3 \\\\\n",
        " 4 \\\\\n",
        " 4\n",
        "\\end{array}\n",
        "\\right]\n",
        "$$\n",
        "\n",
        "즉, 새로운 좌표계의 좌표값은 $(x_1, x_2)$가 된다.\n",
        "\n",
        "이 문제를 선형시스템으로 표현하면 다음과 같다.\n",
        "$$\n",
        "\\left[\n",
        "\\begin{array}{cc}\n",
        " | & | \\\\\n",
        " \\mathbf{v}_1 & \\mathbf{v}_2 \\\\\n",
        " | & | \n",
        "\\end{array}\n",
        "\\right]\n",
        "\\left[\n",
        "\\begin{array}{rr}\n",
        " x_1 \\\\\n",
        " x_2\n",
        "\\end{array}\n",
        "\\right]\n",
        "= \n",
        "\\left[\n",
        "\\begin{array}{c}\n",
        " | \\\\\n",
        " \\mathbf{v} \\\\\n",
        " |  \n",
        "\\end{array}\n",
        "\\right]\n",
        "$$"
      ]
    },
    {
      "cell_type": "markdown",
      "metadata": {
        "id": "jccjgZAoPwXp"
      },
      "source": [
        "### 벡터 및 행렬 정의\n",
        "\n",
        "3-벡터 $\\mathbf{v}$와 $\\mathbf{v}_1$, $\\mathbf{v}_2$를 기저벡터로 하는 좌표계 3x2 행렬 $A$를 정의한다.  \n",
        "\n",
        "이 때, [numpy.column_stack](https://numpy.org/doc/stable/reference/generated/numpy.column_stack.html#numpy.column_stack)를 이용해 $\\mathbf{v}_1$, $\\mathbf{v}_2$가 순서대로 행렬 $A$의 열(column)이 되도록 구성한다."
      ]
    },
    {
      "cell_type": "code",
      "metadata": {
        "colab": {
          "base_uri": "https://localhost:8080/"
        },
        "id": "hzykFn8FH9yL",
        "outputId": "f70e0338-d08d-447a-bcee-9e7ced3f3d6b"
      },
      "source": [
        "v  = np.array([3,4,4])\n",
        "\n",
        "v1 = np.array((1,3,1))\n",
        "v2 = np.array((1,-2,2))\n",
        "\n",
        "A = np.column_stack((v1,v2))\n",
        "\n",
        "print(A)\n",
        "print(v)"
      ],
      "execution_count": null,
      "outputs": [
        {
          "output_type": "stream",
          "text": [
            "[[ 1  1]\n",
            " [ 3 -2]\n",
            " [ 1  2]]\n",
            "[3 4 4]\n"
          ],
          "name": "stdout"
        }
      ]
    },
    {
      "cell_type": "markdown",
      "metadata": {
        "id": "1VyAtLACSdDS"
      },
      "source": [
        "### 선형시스템 정의 및 풀기\n",
        "\n",
        "$$\n",
        "A \\mathbf{x} = \\mathbf{v}\n",
        "$$\n",
        "\n",
        "이 문제는 행렬 $A$가 3x2 크기로 정방행렬(square matrix)가 아닙니다. 이 경우는 최소제곱법을 이용한 최적화로 선형시스템의 해를 구할 수 있습니다. [참고자료: [링크](https://numpy.org/doc/stable/reference/generated/numpy.linalg.lstsq.html)]\n",
        "\n",
        "(* 최소제곱법에 관한 이론은 추후 학습할 예정입니다.)"
      ]
    },
    {
      "cell_type": "code",
      "metadata": {
        "colab": {
          "base_uri": "https://localhost:8080/"
        },
        "id": "w0Z2G_sqBsd6",
        "outputId": "7aebe20f-85a6-4e5c-b030-82e877228d0d"
      },
      "source": [
        "x = np.linalg.lstsq(A, v, rcond=None)[0]\n",
        "\n",
        "print(x)"
      ],
      "execution_count": null,
      "outputs": [
        {
          "output_type": "stream",
          "text": [
            "[2. 1.]\n"
          ],
          "name": "stdout"
        }
      ]
    },
    {
      "cell_type": "markdown",
      "metadata": {
        "id": "1Q8Jf6iWIXCD"
      },
      "source": [
        "## 2) 표준행렬을 이용한 선형 변환\n",
        "\n",
        "2차원 벡터를 입력으로 받아, 해당 벡터를 반시계방향으로 $60^\\circ$ 만큼 회전하는 기능을 구현해 보자.\n"
      ]
    },
    {
      "cell_type": "markdown",
      "metadata": {
        "id": "PF9Ng1YdIkbj"
      },
      "source": [
        "### 문제 정의\n",
        "\n",
        "우리가 구하고자 하는 변환은 2차원 입력($\\mathbf{x} \\in \\mathbb{R}^2$)을 받아 2차원 출력($\\mathbf{x}_l \\in \\mathbb{R}^2$)을 내는 선형변환(linear transformation)이다.\n",
        "\n",
        "따라서, 해당 기능(function)은 2x2 행렬 $A$로 구현할 수 있다."
      ]
    },
    {
      "cell_type": "markdown",
      "metadata": {
        "id": "TwUPheFvJX-l"
      },
      "source": [
        "2x2 행렬 $A$의 첫번째 열(column)은 다음과 같이 구성할 수 있다.\n",
        "\n",
        "- 2차원 공간의 첫번째 기저(basis)벡터인 (1,0)이 해당 기능에 의해 어디로 변환되는지를 계산해 $\\mathbf{v}_1$으로 설정한다.\n",
        "- 2차원 공간의 두번째 기저(basis)벡터인 (0,1)이 해당 기능에 의해 어디로 변화되는지를 계산해 $\\mathbf{v}_2$으로 설정한다.\n",
        "\n",
        "2x2 행렬 $A$을 다음과 같이 구성하는 numpy 코드를 작성한다.\n",
        "\n",
        "$$\n",
        "A =\n",
        "\\left[\n",
        "\\begin{array}{cc}\n",
        " | & | \\\\\n",
        " \\mathbf{v}_1 & \\mathbf{v}_2 \\\\\n",
        " | & | \n",
        "\\end{array}\n",
        "\\right]\n",
        "$$"
      ]
    },
    {
      "cell_type": "code",
      "metadata": {
        "colab": {
          "base_uri": "https://localhost:8080/"
        },
        "id": "MujrmSLgIJ7p",
        "outputId": "dcbf6ee6-15a1-4c78-aab0-9926a9909110"
      },
      "source": [
        "v1 = np.array((np.cos(60),np.sin(60)))\n",
        "v2 = np.array((np.cos(150),np.sin(150)))\n",
        "\n",
        "A = np.column_stack((v1,v2))\n",
        "\n",
        "print(A)"
      ],
      "execution_count": null,
      "outputs": [
        {
          "output_type": "stream",
          "text": [
            "[[-0.95241298  0.69925081]\n",
            " [-0.30481062 -0.71487643]]\n"
          ],
          "name": "stdout"
        }
      ]
    },
    {
      "cell_type": "markdown",
      "metadata": {
        "id": "Q2N37p6NOWqX"
      },
      "source": [
        "### 선형변환 수행\n",
        "\n",
        "아래의 2-벡터를 각각 입력으로 받아 선형변환을 수행하는 코드를 작성하시오.\n",
        "\n",
        "$$\n",
        "\\mathbf{x}_1 = \n",
        "\\left[\n",
        "\\begin{array}{rrr}\n",
        " 1 \\\\\n",
        " 0 \n",
        "\\end{array}\n",
        "\\right],\n",
        "\\quad\n",
        "\\mathbf{x}_2 = \n",
        "\\left[\n",
        "\\begin{array}{rrr}\n",
        " 3 \\\\\n",
        "-2 \n",
        "\\end{array}\n",
        "\\right]\n",
        "$$"
      ]
    },
    {
      "cell_type": "code",
      "metadata": {
        "colab": {
          "base_uri": "https://localhost:8080/"
        },
        "id": "vU0qN-cUOgEG",
        "outputId": "9fc1e4a4-cfc2-45a1-b633-8739cc76420c"
      },
      "source": [
        "x1 = np.array([1,0])\n",
        "x2 = np.array([3,-2])\n",
        "\n",
        "y1 = np.column_stack((x1,[0,1]))\n",
        "\n",
        "y2 = np.column_stack((x2,[0,1]))\n",
        "\n",
        "print(y1)\n",
        "print(y2)"
      ],
      "execution_count": null,
      "outputs": [
        {
          "output_type": "stream",
          "text": [
            "[[1 0]\n",
            " [0 1]]\n",
            "[[ 3  0]\n",
            " [-2  1]]\n"
          ],
          "name": "stdout"
        }
      ]
    }
  ]
}