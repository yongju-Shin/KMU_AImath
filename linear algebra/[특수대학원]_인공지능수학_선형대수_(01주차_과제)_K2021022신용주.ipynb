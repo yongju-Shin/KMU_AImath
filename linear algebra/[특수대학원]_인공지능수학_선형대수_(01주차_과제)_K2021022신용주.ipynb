{
  "nbformat": 4,
  "nbformat_minor": 0,
  "metadata": {
    "colab": {
      "provenance": []
    },
    "kernelspec": {
      "name": "python3",
      "display_name": "Python 3"
    }
  },
  "cells": [
    {
      "cell_type": "markdown",
      "metadata": {
        "id": "Fn6NoDwPmhNs"
      },
      "source": [
        "# 과제 목표\n",
        "\n",
        "파이썬 numpy 패키지를 이용해 행렬과 벡터를 정의하고, 이들에 대한 연산을 수행하는 코드를 작성합니다. \n",
        "\n",
        "참고자료: [링크](https://numpy.org/doc/stable/user/quickstart.html)"
      ]
    },
    {
      "cell_type": "markdown",
      "metadata": {
        "id": "T-kzn78qsK1W"
      },
      "source": [
        "## 행렬 정의\n",
        "\n",
        "다음의 3x3 행렬 $A$를 정의하는 numpy 코드를 작성하시오.\n",
        "\n",
        "$$ A = \n",
        "\\left[\n",
        "\\begin{array}{rrr}\n",
        " 1 &  2 &  1 \\\\\n",
        " 1 &  2 &  3 \\\\\n",
        " 2 &  3 & -1\n",
        "\\end{array}\n",
        "\\right]\n",
        "$$"
      ]
    },
    {
      "cell_type": "code",
      "metadata": {
        "id": "kvcJK1GfTqxA"
      },
      "source": [
        "import numpy as np\n",
        "import numpy.linalg"
      ],
      "execution_count": null,
      "outputs": []
    },
    {
      "cell_type": "code",
      "metadata": {
        "id": "SqWHFBWsT3K7",
        "colab": {
          "base_uri": "https://localhost:8080/"
        },
        "outputId": "498f3225-ff6d-488a-9d34-7bb5526647c5"
      },
      "source": [
        "# 행렬 코딩\n",
        "\n",
        "## TODO\n",
        "A = np.array([[1,2,1],[1,2,3],[2,3,-1]])\n",
        "\n",
        "print(A)\n",
        "print(np.shape(A))"
      ],
      "execution_count": null,
      "outputs": [
        {
          "output_type": "stream",
          "text": [
            "[[ 1  2  1]\n",
            " [ 1  2  3]\n",
            " [ 2  3 -1]]\n",
            "(3, 3)\n"
          ],
          "name": "stdout"
        }
      ]
    },
    {
      "cell_type": "markdown",
      "metadata": {
        "id": "BZKBCNvtugaz"
      },
      "source": [
        "## 벡터 정의\n",
        "다음의 3-벡터 $\\mathbf{b}$를 정의하는 numpy 코드를 작성하시오.\n",
        "$$ \\mathbf{b} = \n",
        "\\left[\n",
        "\\begin{array}{rrr}\n",
        " 1 \\\\\n",
        " 3 \\\\\n",
        "-3\n",
        "\\end{array}\n",
        "\\right]\n",
        "$$"
      ]
    },
    {
      "cell_type": "code",
      "metadata": {
        "colab": {
          "base_uri": "https://localhost:8080/"
        },
        "id": "YFVDrsxxh6gc",
        "outputId": "9450e320-a6cd-4a27-e6af-b67cb640ece8"
      },
      "source": [
        "# 벡터 코딩\n",
        "\n",
        "## TODO\n",
        "b = np.array([1,3,-3])\n",
        "\n",
        "print(b)\n",
        "print(np.shape(b))"
      ],
      "execution_count": null,
      "outputs": [
        {
          "output_type": "stream",
          "text": [
            "[ 1  3 -3]\n",
            "(3,)\n"
          ],
          "name": "stdout"
        }
      ]
    },
    {
      "cell_type": "markdown",
      "metadata": {
        "id": "H6EsN_0ovDrW"
      },
      "source": [
        "## 역행렬 구하기\n",
        "\n",
        "3x3 행렬 $A$의 역행렬을 구하는 코드를 numpy의 linalg 서브모듈의 inv() 함수를 이용해 작성하시오.\n",
        "\n",
        "$$ A^{-1} = \n",
        "\\left[\n",
        "\\begin{array}{rrr}\n",
        " 1 &  2 &  1 \\\\\n",
        " 1 &  2 &  3 \\\\\n",
        " 2 &  3 & -1\n",
        "\\end{array}\n",
        "\\right]^{-1}\n",
        "$$\n",
        "\n",
        "참고자료: [링크](https://numpy.org/doc/stable/reference/generated/numpy.linalg.inv.html)"
      ]
    },
    {
      "cell_type": "code",
      "metadata": {
        "colab": {
          "base_uri": "https://localhost:8080/"
        },
        "id": "vE5nVm9uiAC_",
        "outputId": "a9ec79ac-20d5-43a3-d53d-9fd4c099e28b"
      },
      "source": [
        "# 역행렬 구하기\n",
        "\n",
        "## TODO\n",
        "A_inv = np.linalg.inv(A)\n",
        "\n",
        "print(A_inv)\n",
        "print(np.shape(A_inv))"
      ],
      "execution_count": null,
      "outputs": [
        {
          "output_type": "stream",
          "text": [
            "[[-5.5  2.5  2. ]\n",
            " [ 3.5 -1.5 -1. ]\n",
            " [-0.5  0.5 -0. ]]\n",
            "(3, 3)\n"
          ],
          "name": "stdout"
        }
      ]
    },
    {
      "cell_type": "markdown",
      "metadata": {
        "id": "5LyhlkgdvgB5"
      },
      "source": [
        "## 역행렬을 이용해 선형시스템 풀기\n",
        "\n",
        "역행렬을 이용해, 다음의 선형시스템 $A\\mathbf{x} = \\mathbf{b}$의 해를 구하는 구하는 코드를 작성하시오.\n",
        "\n",
        "$$ \n",
        "\\left[\n",
        "\\begin{array}{rrr}\n",
        " 1 &  2 &  1 \\\\\n",
        " 1 &  2 &  3 \\\\\n",
        " 2 &  3 & -1\n",
        "\\end{array}\n",
        "\\right]\n",
        "\\left[\n",
        "\\begin{array}{rrr}\n",
        "x_1 \\\\\n",
        "x_2 \\\\\n",
        "x_3\n",
        "\\end{array}\n",
        "\\right]\n",
        "=\n",
        "\\left[\n",
        "\\begin{array}{rrr}\n",
        " 1 \\\\\n",
        " 3 \\\\\n",
        "-3\n",
        "\\end{array}\n",
        "\\right]\n",
        "$$"
      ]
    },
    {
      "cell_type": "code",
      "metadata": {
        "colab": {
          "base_uri": "https://localhost:8080/"
        },
        "id": "BcrQWuJ3iaFr",
        "outputId": "d23a86c8-9295-410c-8e67-ddbecfc8d2d7"
      },
      "source": [
        "# 역행렬을 이용한 선형시스템 Ax=b의 해 구하기\n",
        "\n",
        "# TODO\n",
        "x = A_inv@b\n",
        "\n",
        "print(x)\n",
        "print(np.shape(x))"
      ],
      "execution_count": null,
      "outputs": [
        {
          "output_type": "stream",
          "text": [
            "[-4.  2.  1.]\n",
            "(3,)\n"
          ],
          "name": "stdout"
        }
      ]
    },
    {
      "cell_type": "markdown",
      "metadata": {
        "id": "BOfmDAiFwSdl"
      },
      "source": [
        "## 선형시스템의 해 확인\n",
        "\n",
        "앞서 구한 $\\mathbf{x}$가 선형시스템 $A\\mathbf{x} = \\mathbf{b}$의 해(solution)로서 알맞게 구한 것인지 검증하는 코드를 작성하시오.\n",
        "\n",
        "방법: $A\\mathbf{x}$의 연산결과가 $\\mathbf{b}$와 충분히 가까운지를 검증한다. [참고자료: [링크](https://numpy.org/doc/stable/reference/generated/numpy.allclose.html)]"
      ]
    },
    {
      "cell_type": "code",
      "metadata": {
        "id": "1SpkpP1ajHX8",
        "colab": {
          "base_uri": "https://localhost:8080/"
        },
        "outputId": "6ae61eb7-cbf9-4732-e44b-7861b7d41a84"
      },
      "source": [
        "## 결과 검증\n",
        "\n",
        "# TODO\n",
        "bb = A @ x\n",
        "\n",
        "if np.allclose(b, bb):\n",
        "  print(\"Ok\")\n",
        "else:\n",
        "  print(\"something wrong\")"
      ],
      "execution_count": null,
      "outputs": [
        {
          "output_type": "stream",
          "text": [
            "Ok\n"
          ],
          "name": "stdout"
        }
      ]
    }
  ]
}