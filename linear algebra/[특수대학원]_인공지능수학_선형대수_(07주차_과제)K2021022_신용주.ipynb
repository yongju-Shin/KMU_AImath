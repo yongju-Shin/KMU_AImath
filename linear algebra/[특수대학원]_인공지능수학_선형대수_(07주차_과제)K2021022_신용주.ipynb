{
  "nbformat": 4,
  "nbformat_minor": 0,
  "metadata": {
    "colab": {
      "provenance": []
    },
    "kernelspec": {
      "name": "python3",
      "display_name": "Python 3"
    }
  },
  "cells": [
    {
      "cell_type": "markdown",
      "metadata": {
        "id": "Fn6NoDwPmhNs"
      },
      "source": [
        "# 과제 목표\n",
        "\n",
        "파이썬 numpy 패키지를 이용해 선형회귀(linear regression) 문제를 해결한다.\n",
        "\n"
      ]
    },
    {
      "cell_type": "code",
      "metadata": {
        "id": "kvcJK1GfTqxA"
      },
      "source": [
        "import numpy as np\n",
        "import numpy.linalg"
      ],
      "execution_count": null,
      "outputs": []
    },
    {
      "cell_type": "markdown",
      "metadata": {
        "id": "H6xe1EKCY2yG"
      },
      "source": [
        "### 문제 정의\n",
        "\n",
        "![linear_regression.jpg](data:image/jpeg;base64,/9j/4AAQSkZJRgABAgEAyADIAAD/7gAOQWRvYmUAZAAAAAAA/9sAQwAMCAgICAgMCAgMEAsLCwwPDg0NDhQSDg4TExIXFBIUFBobFxQUGx4eJxsUJCcnJyckMjU1NTI7Ozs7Ozs7Ozs7/8AACwgBGgGKAQARAP/EAB8AAAEFAQEBAQEBAAAAAAAAAAABAgMEBQYHCAkKC//EALUQAAIBAwMCBAMFBQQEAAABfQECAwAEEQUSITFBBhNRYQcicRQygZGhCCNCscEVUtHwJDNicoIJChYXGBkaJSYnKCkqNDU2Nzg5OkNERUZHSElKU1RVVldYWVpjZGVmZ2hpanN0dXZ3eHl6g4SFhoeIiYqSk5SVlpeYmZqio6Slpqeoqaqys7S1tre4ubrCw8TFxsfIycrS09TV1tfY2drh4uPk5ebn6Onq8fLz9PX29/j5+v/aAAgBAAAAPwD1WiiiiiiiiiiiiiiiiiiiiqWo3VzDtitykOY5ZpLu4VmtYY4tu7dh48sd3ALKMBmz8uDm2/id08IL4m1KDyHFsZDD86h33GOPGVYhZDtIODgHqRzW1bfafs0X2zZ9o8tPO8rd5XmYG/bu525zjPOKloooooooooooooooooooooooooooooooooooooooooooooorL8T2moX+gX1npRUXU8BRA2AGUkCRMsCAWTKgnueo61i61fLqN1o3huwtWis7q7VpvtMLW0LQ2W2d7dYpYg+MBedoXouT82OuooqO5uIbS3lurhtkUEbyyNgnCoCzHABJ4HapKKKKKKKKKKKKKKKKKKKKKKKKKKKKKKKKKKKKKKKKKKKKz9Y0+91CO3FjeNYyW93HcFgrOsioGzE4WSIlCSMjPai00ySO9Op31w1zdmAwKFBhto0LBmEce5yCxVSxZmJxwQOK0KKK4/4naktroSaepXzL+ZQVIYny4iJGYEcAhtg57H8tHwLqS6l4ZtDlfMtV+ySBQygGLAQc9SY9pJHGT+Fb9FFFVNR1BbCOLCNNNczpb28ShvmkcEjcVVtqBVLM2DhQTgngxXes6fpUYXVLuJZ0gEsiID5jKAd8ixKZJNg2knrgA5PBNWbG7jv7K3voQyx3MEcyB8BgsihwDgkZweeanqK5uIbO2lu7htkMEbyyNgthEBZjgAk8DtVIa0iOhurS6toJpI4obiVEKO8rBIgVR3lj3Fh/rEXHQ4PFSvfvbalFY3K/Je7/ALJKivgPGm94pDyAxALIcjIBGAVy12iiiiiiiiiiiiiiiiiiiiiiiiiiiiiiiiiiiivI/iPqn2/xC1tG26KwjWEbX3oXPzyNgcK2WCsOvy8+g0fhZqnlX11pEjYW4jE0QZ8DfHwyqp6sytkkc4X8vS6KKKwIHTUvGV0WOV0SyihSN0Q4mvcyvKjZLD93Gq/iene74k/5F3Vf+wbd/wDop6PDf/Iu6V/2DbT/ANFJWlVLWdJttc02bS7tnSGfZuaIqrjY6yDBZWHVfSue8RzW99YweDI5ZUlu2jga9vw8I22zxbnDSrH9okZgABHnJOcgVreLbdptAup4mWOexUX1vKUWUpJanzgQG4BIQrn0J69K0bG7jv7K3voQyx3MEcyB8BgsihwDgkZweeanooooqpa3630hNqjNbKp/0hgyK7EjaIwVG9dvO8fKcjaW5226KKKKKKKKKKKKKKKKKKKKKKKKKKKKK4nxF4B0f7Pqmt+dc/aPLurzbuj8rfh5cY8rO3PvnHer2l/D7SNH1CHUrO5uxNAxK7mhZSCCrKR5PQqSDjn0wa6iiiiue01FtPGmsxSuvmahaWF3Ag3E+XCHt3JO0AEPjjPQj3xZ8WX1la6Dfw3VxFDJcWF2kKSOqNI3lsNqgkFjlhwPWjwnfWV1oNhDa3EU0lvYWiTJG6u0beWo2sASVOVPB9Kks/EWn32s3ehRCVLuyUO4kQorr8oLKTyQC45IGc5XI5pviW91qwsI59DgS4mNzGkokSWYJE24GTbEfMOG252gnGeKx/Gd9pWu6E+laXcW+oahczwLaQwPHPJvDhmYbS2wCMNljgAZyea0demksvBl4dVlVpxpbQzSoCVeeSPycgBRw0jccDGe1aWkWklhpVlYzFWktrSCFymSpaNFQkZAOMjjirdFFR3FxDawtPO21Fxk4LEkkKqgAEsxJAAAJJOBzVLyJtV/eXW+GyPC2hAVp1/vTbl3BTxiMEccPncUXRoooooooooooooooooooooooooooooorO8Rf8i9qn/YOuv/AEU9aNFFFFZurWVzLNaalY83NjIxMeWAmgkAWeH/AFiLuO1WQtxuUZwMmtCKRZY0lUMFdQwDq0bYIyMqwDA+oIyKdVRLSRtTe/nKlY4PItVGSVVyrzOeF5ZlQY5wEBB+YgW6Ky762n1PULaH5o7KxnW4n3B086ZQGgRSGXcisQ7EgjcFAyQ2NSiiq13fQ2exWV5ZZc+VDEpklfGM8DhVywBZiFBIyRmo7eymaZbzUJPNmXJjhXH2eAsCp8v5VZm2nBdueu0KGK1dooooooooooooooooooooooooooooooorO8Rf8i9qn/YOuv8A0U9aNFFFFUv7a0f7R9k+3232jzPK8nzo/N3527Nu7O7PGMZzV2iiiiiiiqVxfM0zWNgvmXQwHdlc28OQDukYYBYAgiMNuOR0U7hJaWS2u92ke4nlx5lxLs81gudi/IqKFGTgKoGST1JJjuNa0e0ma3ur+2glTG6OWaONxkAjILAjg5q7RRRRRRRRRRRRRRRRRRRRRRRRRRRRRRRWd4i/5F7VP+wddf8Aop60aKKKK8L/AOEe1z+0P7K+xTfa+vl7T93d5fmZ+7s3cb87fevdKKKKKKKzvtM2q/Jp0jwWw5a8CDc/dVhEqMrKeCZNpUjhckkpdt7eG1hWCBdqLnAyWJJJZmJJJZiSSSSSScnmpK8X8S6NqyeJLyM2czNd3lzLbBEZ/NUsZcptB3YVgTjp3xXrei281po9ha3C7JYLO3ikXIOGSNVYZBIPI7VdoooooooooooooooooooooooooooooorO8Rf8i9qn/YOuv/RT1o0UUUUUUUUUVHcXENrC087bUXGTgsSSQqqAASzEkAAAkk4HNUvIm1X95db4bI8LaEBWnX+9NuXcFPGIwRxw+dxRdGiiiiiiiiiiiiiiiiiiiiiiiiiiiiiiiiiiis7xF/yL2qf9g66/9FPWjRRRRRRRRRVa7vobPYrK8ssufKhiUySvjGeBwq5YAsxCgkZIzUdvZTNMt5qEnmzLkxwrj7PAWBU+X8qszbTgu3PXaFDFau0VU1HUFsI4sI001zOlvbxKG+aRwSNxVW2oFUszYOFBOCeCXN8unwQfat008zCGNII2zLNsZ9qruYICEJyzYA6t3ptrqiT3Isp7eezuWjeZIp1Q7o0KKzh4nlj4ZwCu7d3xggm7UVzcQ2dtLd3DbIYI3lkbBbCICzHABJ4HaqQ1pEdDdWl1bQTSRxQ3EqIUd5WCRAqjvLHuLD/WIuOhweKlvb97C5gM67rS5kjtw6K7PFM5IQvjI2MSFzxtbHUNlbtFFFFFFFFFFFFFFFFFFFFFFFFFFFZ3iL/kXtU/7B11/wCinrRooooooooqlcXzNM1jYL5l0MB3ZXNvDkA7pGGAWAIIjDbjkdFO4SWlktrvdpHuJ5ceZcS7PNYLnYvyKihRk4CqBkk9SSbNFFYEDpqXjK6LHK6JZRQpG6IcTXuZXlRslh+7jVfxPTvb1fRrW+urLVp5biKTSWkmjFtyXDbC6MoR3YEJjavJBI71lpcQ+IPFtrNA3kLoUdwWjnBiupnuY0U4hcJIiKrAl2AyTgDvXUVS1nSbbXNNm0u7Z0hn2bmiKq42OsgwWVh1X0rnvEc1vfWMHgyOWVJbto4Gvb8PCNts8W5w0qx/aJGYAAR5yTnIFdHq2nx6tpl1psu0LcwPGGZRIEYj5XwSMlWwRz1FVvDGptrOgWOouWaSWACVmCqWkjJjkbC8AF0JGO3YdK1KKKKKKKKKKKKKKKKKKKKKKKKKKKzvEX/Ivap/2Drr/wBFPWjRRRRRRRWd9pm1X5NOkeC2HLXgQbn7qsIlRlZTwTJtKkcLkklLtvbw2sKwQLtRc4GSxJJLMxJJLMSSSSSSTk81JRRRXPaai2njTWYpXXzNQtLC7gQbifLhD27knaACHxxnoR74m1HVtR0/XbaKZYIdFe2Z572YONsoLAR7w2xMkpjeADyAScCsrVGTW/Fmi3XhyaC4ew8x7+5iKSIlu5VRGzgMCzDzAq5yMk8Dmtx/EWnx6+nhxxKt3LB50bFCIWwGbaG7napOQNvBGc8U3xLe61YWEc+hwJcTG5jSUSJLMEibcDJtiPmHDbc7QTjPFY/jO+0rXdCfStLuLfUNQuZ4FtIYHjnk3hwzMNpbYBGGyxwAM5PNdHFNJYaUlxq8qtJbWge8mQEqWjTMrgKoOMgkAL+FZvge0ksvCmmwylSzQGYFckbZ3aZRyBztcZ963aKKKKKKKKKKKKKKKKKKKKKKKKKKzvEX/Ivap/2Drr/0U9aNFFFFFR3FxDawtPO21Fxk4LEkkKqgAEsxJAAAJJOBzVLyJtV/eXW+GyPC2hAVp1/vTbl3BTxiMEccPncUXRooooorN1ayuZZrTUrHm5sZGJjywE0EgCzw/wCsRdx2qyFuNyjOBk1oRSLLGkqhgrqGAdWjbBGRlWAYH1BGRTqqTWklxqFvcSFfItFd40GdxncGPeeBgLGzADJzvOQNoJt0Vl61bT6qqaRHuSCVo3vpSHVTbgktAjKyEvIV2nBOFznGVDalFFFFFFFFFFFFFFFFFFFFFFFFFFFZ3iL/AJF7VP8AsHXX/op60aKKKKrXd9DZ7FZXlllz5UMSmSV8YzwOFXLAFmIUEjJGajt7KZplvNQk82ZcmOFcfZ4CwKny/lVmbacF2567QoYrV2iiiiiiiiiiiiiiiiiiiiiiiiiiiiiiiiiiiiiiiiis7xF/yL2qf9g66/8ART1o0UUVSuL5mmaxsF8y6GA7srm3hyAd0jDALAEERhtxyOincJLSyW13u0j3E8uPMuJdnmsFzsX5FRQoycBVAySepJNmiiiiiiiiiiiiiiiiiiiiiiiiiiiiiiiiiiiiiiiiiis7xF/yL2qf9g66/wDRT1o0UVnfaZtV+TTpHgthy14EG5+6rCJUZWU8EybSpHC5JJS7b28NrCsEC7UXOBksSSSzMSSSzEkkkkkk5PNSUUUUUUUUUUUUUUUUUUUUUUUUUUUUUUUUUUUUUUUUUUUVneIv+Re1T/sHXX/op60ajuLiG1haedtqLjJwWJJIVVAAJZiSAAASScDmqXkTar+8ut8NkeFtCArTr/em3LuCnjEYI44fO4oujRRRRRRRRRRRRRRRRRRRRRRRRRRRRRRRRRRRRRRRRRRRRRWd4i/5F7VP+wddf+inqxd30NnsVleWWXPlQxKZJXxjPA4VcsAWYhQSMkZqO3spmmW81CTzZlyY4Vx9ngLAqfL+VWZtpwXbnrtChitXaKKKKKKKKKKKKKKKKKKKKKKKKKKKKKKKKKKKKKKKKKKKKKKxPE1+v9kanZWyNPMthcecQGWGJTEzMWfaV3bSCEHzHIOApLDStLJbXe7SPcTy48y4l2eawXOxfkVFCjJwFUDJJ6kk2aKKKKKKKKKKKKKKKKKKKKKKKKKKKKKKKKKKKKKKKKKKKKKKzvtM2q/Jp0jwWw5a8CDc/dVhEqMrKeCZNpUjhckkpHrdvDa+GdSggXai6dd4GSxJMbszEkksxJJJJJJOTzWrRRRRRRRRRRRRRRRRRRRRRRRRRRRRRRRRRRRRRRRRRRRRRUdxcQ2sLTzttRcZOCxJJCqoABLMSQAACSTgc1S8ibVf3l1vhsjwtoQFadf7025dwU8YjBHHD53FF0azvEX/ACL2qf8AYOuv/RT1o0UUUUUUUUUUUUUUUUUUUUUUUUUUUUUUUUUUUUUUUUUUUVWu76Gz2KyvLLLnyoYlMkr4xngcKuWALMQoJGSM1Hb2UzTLeahJ5sy5McK4+zwFgVPl/KrM204Ltz12hQxWrtFZ3iL/AJF7VP8AsHXX/op60aKKKKKKKKKKKKKKKKKKKKKKKKKKKKKKKKKKKKKKKKKKKpXF8zTNY2C+ZdDAd2Vzbw5AO6RhgFgCCIw245HRTuElpZLa73aR7ieXHmXEuzzWC52L8iooUZOAqgZJPUkmzRRWd4i/5F7VP+wddf8Aop60aKKKKKKKKKKKKKKKKKKKKKKKKKKKKKKKKKKKKKKKKKKzvtM2q/Jp0jwWw5a8CDc/dVhEqMrKeCZNpUjhckkpdt7eG1hWCBdqLnAyWJJJZmJJJZiSSSSSScnmpKKKKzvEX/Ivap/2Drr/ANFPWjRRRRRRRRRRRRRRRRRRXM+PtY1HRNHhutMm8iV7xImbakmVMcrEYdWHVRXNaX8U76LbHq9qlwo8tTLCfKlwOHcqdysx6gDaM/p1mm+OvDOpKMXa2sm1mMd3iAgA7fvE+WSeoAYnH41v0VAl3HJdPaRhnaJcyuMeWjHaVjJz98qd2BnAwTjK5noqC6srO+jEN9BFcxqwYJMiyqGAIBwwIzgnmsyz0/wbqG/+z7bTLry8b/Ijtpdu7OM7QcZwcVZ/4R3w9/0C7P8A8B4f/iKP+Ed8Pf8AQLs//AeH/wCIo/4R3w9/0C7P/wAB4f8A4ij/AIR3w9/0C7P/AMB4f/iKP+Ed8Pf9Auz/APAeH/4impoPhqRnVNOsWaJtkgEEBKsQr7T8vB2sDg9iKjTR/DTXT2baVaRyqu9A9vABInyguhCnIDNtYdQcZGCpM3/CO+Hv+gXZ/wDgPD/8RR/wjvh7/oF2f/gPD/8AEUf8I74e/wCgXZ/+A8P/AMRR/wAI74e/6Bdn/wCA8P8A8RR/wjvh7/oF2f8A4Dw//EVHcaJ4ZtYWnn02zVFxk/ZomJJIVVACEsxJAAAJJOBzVWPw1pF/ItzJp1va2ysGitxbwxySgHIeXMe9RkAhAQcffzkot7/hHfD3/QLs/wDwHh/+Io/4R3w9/wBAuz/8B4f/AIij/hHfD3/QLs//AAHh/wDiKP8AhHfD3/QLs/8AwHh/+Io/4R3w9/0C7P8A8B4f/iKP+Ed8Pf8AQLs//AeH/wCIqjr2g6HDoeozQ6daRyR2FyyOsESsrLGxBBC5BB6Gr3/CO+Hv+gXZ/wDgPD/8RR/wjvh7/oF2f/gPD/8AEUf8I74e/wCgXZ/+A8P/AMRR/wAI74e/6Bdn/wCA8P8A8RR/wjvh7/oF2f8A4Dw//EUf8I74e/6Bdn/4Dw//ABFH/CO+Hv8AoF2f/gPD/wDEUf8ACO+Hv+gXZ/8AgPD/APEUf8I74e/6Bdn/AOA8P/xFH/CO+Hv+gXZ/+A8P/wARR/wjvh7/AKBdn/4Dw/8AxFH/AAjvh7/oF2f/AIDw/wDxFH/CO+Hv+gXZ/wDgPD/8RR/wjvh7/oF2f/gPD/8AEUf8I74e/wCgXZ/+A8P/AMRR/wAI74e/6Bdn/wCA8P8A8RR/wjvh7/oF2f8A4Dw//EUf8I74e/6Bdn/4Dw//ABFH/CO+Hv8AoF2f/gPD/wDEVy3xF0XT7fR7X+zLCGK4l1GKJfs8KJK+6OXCDYoJyQOPWuX034f+JtSUSGBbONlYhrtjESQdu3YA0gPcZUDH4Z67Tfhdo9swfUp5b5gzfIP9HhKkYAIUs+Qechx9PXoY/DPh2KNYl0y0KooUFoY3bAGBlmUsT6knJqxq2oR6Tpl1qUu0rbQPIFZhGHYD5UyQcFmwBx1NQeH9Pk0/SokuFxeT5ub1iI9zXMx8yYkxgKcMcDHYAdq0qKx/FOm6nqunx2umNb7hdwSzR3YLQSxxEyeWwCOSC6rkDGRkZqt4jkaTVtEttPCvqMV+s7gKrSR2RV4rlySCFQhgOSMnGMkcdDRRRUF3ZxXsYimaVVDBgYZZrZsgEfeidGI56ZxWD4Hijhj1uGFFjjj8Q3yIiAKqqojAUAYAAA4FWvFUckFgmt2sfmXejyC6jAMalovu3MZZ1bCtCWzjnIBHIFbMUsc0aTQuskcih0dCGVlYZDAjIIIPBp1FFVru+hs9isryyy58qGJTJK+MZ4HCrlgCzEKCRkjNR29lM0y3moSebMuTHCuPs8BYFT5fyqzNtOC7c9doUMVq7RRRRRRWd4i/5F7VP+wddf8Aop60aKKKKKKKKKKKKKKKKKKKKKK57x/FJL4Q1BYkZ2CwuQoLHaksbs3HYKCSewroazfI8Rf8/wBZf+Ac3/yfR5HiL/n+sv8AwDm/+T6bfa3Hpd1pum3cctzdakxjRraMeWGTZ5jsGkLKg356tgA56VgeLLePww2n6z4fga3me/htprO0AihukYSsEaNUKl+oVtuRnuQMdc9zbRTRW8sqJNPv8mNmVXk2Dc20E5OBycdKfKJDG4hZUkKkIzqXUNjgkBkJGeoyPrWf5HiL/n+sv/AOb/5Po8jxF/z/AFl/4Bzf/J9aVc54M/5jv/Yx6h/7TrR8Sf8AIu6r/wBg27/9FPTvD8UkOg6bDMjRyR2Fqjo4KsrLGgKkHBBBHIrQoqlcXzNM1jYL5l0MB3ZXNvDkA7pGGAWAIIjDbjkdFO4SWlktrvdpHuJ5ceZcS7PNYLnYvyKihRk4CqBkk9SSbNFFFFFFFZ3iL/kXtU/7B11/6KetGiiiiiiiiiiiiiiiiiiiiiiorm3hvLaW0uF3wzxvFIuSuUcFWGQQRwe1Z3htpoLAaPdjbcaXi2zgIJYU+W3nUb5DtdF5OfvBh2rWoqC7srW+jEV3EsqqwdCeGRwCA6MMMjjPDKQR2NVoND063uo70LLLPCrrFJcT3F0Yw+A+zzpJApIGCRg44qprmi2epajptwbbdeQXMci3Y3DyooGWZg2CFbcwCKpORuLAcNW3RRUVxbx3ULQSl1V8ZMUkkD8EHho2Rh07GqVh4f0zTJmnslnjZ5HlcG5upEeRxhndXlZWY+pBNVvEMH9rvb+HgnmQ3EiT37dRHbQsJApIkRlaSRAqkZ4DEfdrborO+0zar8mnSPBbDlrwINz91WESoysp4Jk2lSOFySSl23t4bWFYIF2oucDJYkklmYkklmJJJJJJJyeakoooooooorO8Rf8AIvap/wBg66/9FPWjRRRRRRRRRRRRRRRRRRRRRRRTTFGZFmKKZEVkVyBuCsVLKD1AJQZHsKdRRRRRRRRRTUijjZ2RFVpW3yEAAswCpuPqdqgZPYCm3FxDawtPO21Fxk4LEkkKqgAEsxJAAAJJOBzVLyJtV/eXW+GyPC2hAVp1/vTbl3BTxiMEccPncUXRoooooooooorO8Rf8i9qn/YOuv/RT1o0UUUUUUUUUUUUUUVFc/afs0v2PZ9o8t/J83d5XmYOzdt525xnHOK5jU7a7h8R6VpmnX91/pcd1Jqe6WScmFfLIYrvCwb2DIrxhME/L0xW/pVhc6dDLBPdveK1zLJAZdxeKJzlYSzO7Pt5+Zjn8qu0UUUUUUUUUUUVieNLy6sPDF9dWcjQzKsSrIvDAPIkbYPY7WOCOR1HNcL4F17WrjxPa2tzfXE8M6zrJHNI8ykLG8g4ctg7kHI57dCa9Vqtd30NnsVleWWXPlQxKZJXxjPA4VcsAWYhQSMkZqO3spmmW81CTzZlyY4Vx9ngLAqfL+VWZtpwXbnrtChitXaKKKKKpa1cTWmj391btslgs7iWNsA4ZI2ZTggg8jvXlHh3xFrza9p0cmo3MiSXkETpLK8qMsjhGBViw6Me3HUc17JRRRWd4i/5F7VP+wddf+inrRoooooooooooooooqpqsOoXGnzxaVcLaXjKDDM6iRQwIOCCGGCBgnBxnODWSmka4muP4kLW808lp9jWxMjxwwxhlk3CcQMzksucGIfeIzwM7VnBJbW4imlaeQs7vI2RlpGaQhQSxCAthVycKAMnGanoooooooooooopskcc0bQzKskcilXRgGVlYYIIPBBHUVWtdJ0uxkM1jZ29tIylS8MUcTFSQSMqoOMgcU24vmaZrGwXzLoYDuyubeHIB3SMMAsAQRGG3HI6KdwktLJbXe7SPcTy48y4l2eawXOxfkVFCjJwFUDJJ6kk2aKKKKKKKpW+i6PaTLcWthbQSpnbJFDHG4yCDghQRwcVdooorO8Rf8i9qn/YOuv8A0U9aNFFFFFFFFFFFFFFFFFFFFFFFFFFFFFFFFZ32mbVfk06R4LYcteBBufuqwiVGVlPBMm0qRwuSSUu29vDawrBAu1FzgZLEkkszEkksxJJJJJJOTzUlFUpr9zqMel2q5m8tbieR1cxRw7igGRgF3KsFGeACxzgK12imyyxwxvNM6xxxqXd3IVVVRksScAAAcms+18QaVfaiNMspftEptnufMjBaDy1ZI8q/3WyzEfKSAQQcEYrSooopssscMbzTOsccal3dyFVVUZLEnAAAHJrPtfEGlX2ojTLKX7RKbZ7nzIwWg8tWSPKv91ssxHykgEEHBGKl1S/fS4RfyLvs4f8Aj6Cq7yohKgSrtzlU5LjH3ckH5cNH4i/5F7VP+wddf+inrRooooooooooooooooooooooooooooooqO4uIbWFp522ouMnBYkkhVUAAlmJIAABJJwOapeRNqv7y63w2R4W0ICtOv8Aem3LuCnjEYI44fO4oujRRRWB4PdL+zutfzvbVr2aZSyJHKsMTG3giYqTnasefqT7k79FFc5/zUX/ALlz/wBuq6Oiiiiuc/5qL/3Ln/t1XQyxRzRvDMiyRyKUdHAZWVhgqQcggg8iuUsJ2bwRq2nSSNNJpEOpaa8pVYw4t0cRkBSePLKjnnOevU9bRRRRRRRRRRRRRRRRRRRRRRRRRRRRRVa7vobPYrK8ssufKhiUySvjGeBwq5YAsxCgkZIzUdvZTNMt5qEnmzLkxwrj7PAWBU+X8qszbTgu3PXaFDFau0UUUVz3gRFtvD66YXV5tNu7y0uNm7aJEmdiAWVcja4IPv61oy6JZyyPK0l2GdixCXt7GuScnCrOFA9ABgU3+wLH/nre/wDgff8A/wAkVdt7eO1hWCIuypnBlkknfkk8tIzsevc1yn9t6L/wnn2z7fa/Z/7A8rzvOi8rzPtO7Zu3Y3Y5xnOK6DXNatdA099SvEleJGRSsKeY2WOB3Cge7EDt1IBt21xDeW0V3btvhnjSWNsFco4DKcEAjg96qS6JZyyPK0l2GdixCXt7GuScnCrOFA9ABgU3+wLH/nre/wDgff8A/wAkVdt7eO1hWCIuypnBlkknfkk8tIzsevc1yn9t6L/wnn2z7fa/Z/7A8rzvOi8rzPtO7Zu3Y3Y5xnOK7CuN01Ffwj4i1GJ1kg1KfWbu3YbgTGweMEhlUgkxk49MfSuyoooooooooooooooooooooooooooooqNbeFbh7pVxLLHHE7ZPKxl2QYzjgyN+dSUUUUUVl/Zp7DWZL+Lc9pqCxJcRqHkaO4TEcc4G4gIyYR8LxtUnjcRqUUUVBepdSWssdk6xTuuyOVuRGW48zG1gxUHIU8EjBIzkOtreGztorS3XZDBGkUa5LYRAFUZJJPA71LRRRWfrIvZ7VtP05miuLtWQXO1tkCcCSXcrJhwrfIAclsfwhiItZt4bPwtfWluuyGDSriKNclsIkLKoySSeB3rVoooooooooooooooooooooooooooooooooooooooooooooooorO8Rf8i9qn/YOuv/AEU9aNFFFFFFFFFFFFFFFFFFFFFFf//Z)\n",
        "\n",
        "\n",
        "2차원 공간의 아래 4개의 점이 있다.\n",
        "\n",
        "$$\n",
        "\\mathbf{p}_1 = \n",
        "\\left[\n",
        "\\begin{array}{rrr}\n",
        "-3 \\\\\n",
        "-1\n",
        "\\end{array}\n",
        "\\right],\n",
        "\\quad\n",
        "\\mathbf{p}_2 = \n",
        "\\left[\n",
        "\\begin{array}{rrr}\n",
        "-1 \\\\\n",
        "-1\n",
        "\\end{array}\n",
        "\\right],\n",
        "\\quad\n",
        "\\mathbf{p}_3 = \n",
        "\\left[\n",
        "\\begin{array}{rrr}\n",
        " 1 \\\\\n",
        " 3\n",
        "\\end{array}\n",
        "\\right],\n",
        "\\quad\n",
        "\\mathbf{p}_4 = \n",
        "\\left[\n",
        "\\begin{array}{rrr}\n",
        " 3 \\\\\n",
        " 3\n",
        "\\end{array}\n",
        "\\right]\n",
        "$$\n",
        "\n",
        "이 점들을 잘 설명할 수 있는 직선 $l: y = mx + b$을 구하려 한다. 최소제곱법의 해(least squares solution)를 이용해 직선을 구하시오."
      ]
    },
    {
      "cell_type": "markdown",
      "metadata": {
        "id": "YT7lLpnEH6ec"
      },
      "source": [
        "### 선형시스템 $A\\mathbf{x} = \\mathbf{b}$ 구성\n",
        "\n",
        "주어진 점 $\\mathbf{p}_{i}$가 각각 직선 $l$ 위에 놓인다고 가정하고 선형시스템의 각 행(row)를 작성하도록 한다 (단,  $i=1,2,3,4$).\n",
        "\n",
        "4x2 행렬 $A$와 4-벡터 $\\mathbf{b}$ 구성하세요.\n"
      ]
    },
    {
      "cell_type": "code",
      "metadata": {
        "colab": {
          "base_uri": "https://localhost:8080/"
        },
        "id": "7gzXcLp5bl_w",
        "outputId": "6682daa8-5855-41a3-b01b-c82e28c4aded"
      },
      "source": [
        "A = np.array([[-3,1],[-1,1],[1,1],[3,1]])\n",
        "b = np.array([[-1],[-1],[3],[3]])\n",
        "\n",
        "print(A)\n",
        "print(b)"
      ],
      "execution_count": null,
      "outputs": [
        {
          "output_type": "stream",
          "text": [
            "[[-3  1]\n",
            " [-1  1]\n",
            " [ 1  1]\n",
            " [ 3  1]]\n",
            "[[-1]\n",
            " [-1]\n",
            " [ 3]\n",
            " [ 3]]\n"
          ],
          "name": "stdout"
        }
      ]
    },
    {
      "cell_type": "markdown",
      "metadata": {
        "id": "QUJx3fB0b7Ym"
      },
      "source": [
        "### 최소제곱법을 이용해 선형시스템 풀기\n",
        "\n",
        "$$\n",
        "A \\mathbf{x} = \\mathbf{b}\n",
        "$$\n",
        "\n",
        "이 문제는 over-determined 문제로 최소제곱법을 이용한 선형시스템의 최적해(optimal solution) $\\mathbf{\\bar{x}}$를 구할 수 있습니다. [참고자료: [링크](https://numpy.org/doc/stable/reference/generated/numpy.linalg.lstsq.html)]\n",
        "\n",
        "최소제곱법을 이용해 선형시스템의 최적해 $\\mathbf{\\bar{x}}$를 구하는 numpy 코드를 작성하세요."
      ]
    },
    {
      "cell_type": "code",
      "metadata": {
        "colab": {
          "base_uri": "https://localhost:8080/"
        },
        "id": "YhYOLB35cD9Y",
        "outputId": "12c8ebde-bcd7-40c9-bccd-981d99e18171"
      },
      "source": [
        "x_opt = np.linalg.lstsq(A, b, rcond=None)[0]\n",
        " \n",
        "print(x_opt)"
      ],
      "execution_count": null,
      "outputs": [
        {
          "output_type": "stream",
          "text": [
            "[[0.8]\n",
            " [1. ]]\n"
          ],
          "name": "stdout"
        }
      ]
    },
    {
      "cell_type": "markdown",
      "metadata": {
        "id": "GJ7n8Q1CxGKL"
      },
      "source": [
        "## 선형시스템의 해 확인\n",
        "\n",
        "앞서 **최소제곱법**으로 구한 최적해 $\\mathbf{\\bar{x}}$가 선형시스템 $A\\mathbf{x} = \\mathbf{b}$의 해(solution)로서 알맞게 구한 것인지 검증하는 코드를 작성하시오.\n",
        "\n",
        "방법: $A\\mathbf{\\bar{x}}$의 연산결과가 $\\mathbf{b}$와 충분히 가까운지를 검증한다. [참고자료: [링크](https://numpy.org/doc/stable/reference/generated/numpy.allclose.html)]"
      ]
    },
    {
      "cell_type": "code",
      "metadata": {
        "id": "7BCP6L56xH6p",
        "colab": {
          "base_uri": "https://localhost:8080/"
        },
        "outputId": "a7b93b72-1bea-4ce2-e5b7-ca0e7767dd2b"
      },
      "source": [
        "## 결과 검증\n",
        "\n",
        "bb = A@x_opt\n",
        "\n",
        "if np.allclose(b, bb):\n",
        "  print(\"Ok\")\n",
        "else:\n",
        "  print(\"something wrong\")"
      ],
      "execution_count": null,
      "outputs": [
        {
          "output_type": "stream",
          "text": [
            "something wrong\n"
          ],
          "name": "stdout"
        }
      ]
    },
    {
      "cell_type": "markdown",
      "metadata": {
        "id": "aOwwYlFmw_Ce"
      },
      "source": [
        "**최소제곱법**으로 구한 최적해 $\\mathbf{\\bar{x}}$는 **일반적으로 $A \\mathbf{x} = \\mathbf{b}$를 만족하지 않습니다**.  [참고자료: [링크](https://en.wikipedia.org/wiki/Linear_least_squares#Example)]\n",
        "\n",
        "왜 그런지 이유를 기술해 보세요.\n",
        "\n"
      ]
    },
    {
      "cell_type": "markdown",
      "metadata": {
        "id": "elJwG4VkxPnH"
      },
      "source": [
        "### [정답 작성란]\n",
        "최소제곱법은 Ax=b 를 구할 수 없는 해가없는 선형시스템의 근사치를 구하기 위해서 사용하는 방법으로 해당 벡터의 가장 가까운 벡터를 구하여 근사치를 구하기때문에 Ax=b와는 같지 않습니다. \n"
      ]
    }
  ]
}