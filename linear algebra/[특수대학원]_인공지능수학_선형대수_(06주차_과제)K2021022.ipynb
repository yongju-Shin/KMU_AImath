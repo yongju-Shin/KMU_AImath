{
  "nbformat": 4,
  "nbformat_minor": 0,
  "metadata": {
    "colab": {
      "provenance": []
    },
    "kernelspec": {
      "name": "python3",
      "display_name": "Python 3"
    }
  },
  "cells": [
    {
      "cell_type": "markdown",
      "metadata": {
        "id": "Fn6NoDwPmhNs"
      },
      "source": [
        "# 과제 목표\n",
        "\n",
        "파이썬 numpy 패키지를 이용해 주어진 행렬에 대한 QR 분해를 구하는 코드를 작성합니다.\n",
        "\n",
        "참고자료: [링크](https://numpy.org/doc/stable/reference/generated/numpy.linalg.qr.html)"
      ]
    },
    {
      "cell_type": "markdown",
      "metadata": {
        "id": "T-kzn78qsK1W"
      },
      "source": [
        "## 행렬 $A$ 정의\n",
        "\n",
        "다음의 3x3 행렬 $A$를 정의하는 numpy 코드를 작성하시오.\n",
        "\n",
        "$$ A = \n",
        "\\left[\n",
        "\\begin{array}{rrr}\n",
        " 3 &  1 &  1 \\\\\n",
        " 1 & -2 & -1 \\\\\n",
        " 1 &  1 &  1\n",
        "\\end{array}\n",
        "\\right]\n",
        "$$"
      ]
    },
    {
      "cell_type": "code",
      "metadata": {
        "id": "kvcJK1GfTqxA"
      },
      "source": [
        "import numpy as np\n",
        "import numpy.linalg "
      ],
      "execution_count": null,
      "outputs": []
    },
    {
      "cell_type": "code",
      "metadata": {
        "id": "SqWHFBWsT3K7",
        "colab": {
          "base_uri": "https://localhost:8080/"
        },
        "outputId": "f3d09372-3645-41b8-e0d9-47b53ebde694"
      },
      "source": [
        "# 행렬 코딩\n",
        "A = np.array([[3,1,1],[1,-2,-1],[1,1,1]])\n",
        "\n",
        "print(A)\n",
        "print(np.shape(A))"
      ],
      "execution_count": null,
      "outputs": [
        {
          "output_type": "stream",
          "text": [
            "[[ 3  1  1]\n",
            " [ 1 -2 -1]\n",
            " [ 1  1  1]]\n",
            "(3, 3)\n"
          ],
          "name": "stdout"
        }
      ]
    },
    {
      "cell_type": "markdown",
      "metadata": {
        "id": "BZKBCNvtugaz"
      },
      "source": [
        "## 행렬 $A$의 QR 분해 계산\n",
        "앞서 정의한 행렬 $A$에 대해 LU 분해, $A = QR$를 수행하는 numpy 코드를 작성하시오."
      ]
    },
    {
      "cell_type": "code",
      "metadata": {
        "colab": {
          "base_uri": "https://localhost:8080/"
        },
        "id": "YFVDrsxxh6gc",
        "outputId": "0f4c3395-7ba0-4b81-e3cf-4188e88c347c"
      },
      "source": [
        "# QR 분해\n",
        "Q, R = np.linalg.qr(A)\n",
        "\n",
        "print(\"Q:\", Q)\n",
        "print(\"R:\", R)\n",
        "\n",
        "## QR 분해 결과 체크: 연산결과가 A와 동일한지 체크\n",
        "AA = Q@R\n",
        "print(\"AA:\", AA)"
      ],
      "execution_count": null,
      "outputs": [
        {
          "output_type": "stream",
          "text": [
            "Q: [[-0.90453403  0.1914599  -0.38100038]\n",
            " [-0.30151134 -0.9190075   0.25400025]\n",
            " [-0.30151134  0.34462781  0.88900089]]\n",
            "R: [[-3.31662479 -0.60302269 -0.90453403]\n",
            " [ 0.          2.3741027   1.4550952 ]\n",
            " [ 0.          0.          0.25400025]]\n",
            "AA: [[ 3.  1.  1.]\n",
            " [ 1. -2. -1.]\n",
            " [ 1.  1.  1.]]\n"
          ],
          "name": "stdout"
        }
      ]
    },
    {
      "cell_type": "markdown",
      "metadata": {
        "id": "H6EsN_0ovDrW"
      },
      "source": [
        "## 벡터 정의\n",
        "다음의 3-벡터 $\\mathbf{b}$를 정의하는 numpy 코드를 작성하시오.\n",
        "$$ \\mathbf{b} = \n",
        "\\left[\n",
        "\\begin{array}{rrr}\n",
        " 4 \\\\\n",
        " 1 \\\\\n",
        " 2\n",
        "\\end{array}\n",
        "\\right]\n",
        "$$"
      ]
    },
    {
      "cell_type": "code",
      "metadata": {
        "colab": {
          "base_uri": "https://localhost:8080/"
        },
        "id": "vE5nVm9uiAC_",
        "outputId": "133ba10e-0a74-4c02-fba9-f41c4ddbdb9e"
      },
      "source": [
        "# 벡터 코딩\n",
        "b = np.array([4,1,2])\n",
        "\n",
        "print(b)\n",
        "print(np.shape(b))"
      ],
      "execution_count": null,
      "outputs": [
        {
          "output_type": "stream",
          "text": [
            "[4 1 2]\n",
            "(3,)\n"
          ],
          "name": "stdout"
        }
      ]
    },
    {
      "cell_type": "markdown",
      "metadata": {
        "id": "5LyhlkgdvgB5"
      },
      "source": [
        "## QR-분해를 이용해 선형시스템 $A \\mathbf{x} = \\mathbf{b}$ 풀기\n",
        "행렬 $A$에 대한 QR 분해를 이용해 $A\\mathbf{x} = \\mathbf{b}$를 계산하는 numpy 코드를 작성하시오.\n",
        "\n",
        "$A \\mathbf{x} = \\mathbf{b}$를 $QR \\mathbf{x} = \\mathbf{b}$ 문제로 본 후, 다음을 해결한다.\n",
        "- $R \\mathbf{x} = \\mathbf{y}$로 설정하고, $Q \\mathbf{y} = \\mathbf{b}$ 문제를 풀어 $\\mathbf{y}$를 얻는다.\n",
        "- $R \\mathbf{x} = \\mathbf{y}$ 문제를 풀어 $\\mathbf{x}$를 얻는다."
      ]
    },
    {
      "cell_type": "markdown",
      "metadata": {
        "id": "6vZMt2VrUZ9Y"
      },
      "source": [
        "### 선형시스템 $Q\\mathbf{y} = \\mathbf{b}$ 풀기\n",
        "\n",
        "$Q$는 정규직교행렬(orthonormal matrix)이므로 $Q$의 역행렬은 전치행렬인 $Q^{T}$와 같습니다. \n",
        "\n",
        "이러한 성질을 이용해 $\\mathbf{y}$를 구하는 numpy 코드를 작성하세요."
      ]
    },
    {
      "cell_type": "code",
      "metadata": {
        "colab": {
          "base_uri": "https://localhost:8080/"
        },
        "id": "BcrQWuJ3iaFr",
        "outputId": "1e06de79-9c6a-458e-c6e3-25cbf20dd0a1"
      },
      "source": [
        "# Qy = b 풀기\n",
        "\n",
        "y = Q.T@b\n",
        "\n",
        "\n",
        "print(\"y:\", y)\n",
        "print(np.shape(y))"
      ],
      "execution_count": null,
      "outputs": [
        {
          "output_type": "stream",
          "text": [
            "y: [-4.52267017  0.53608771  0.50800051]\n",
            "(3,)\n"
          ],
          "name": "stdout"
        }
      ]
    },
    {
      "cell_type": "markdown",
      "metadata": {
        "id": "BH1Um2IG--OK"
      },
      "source": [
        "## 선형시스템 $R \\mathbf{x} = \\mathbf{y}$ 풀기\n",
        "\n",
        "$R$은 역행렬이 존재하는 상삼각행렬(upper triangular matrix)입니다. \n",
        "\n",
        "이러한 성질을 이용해 $\\mathbf{x}$를 구하는 numpy 코드를 작성하세요."
      ]
    },
    {
      "cell_type": "code",
      "metadata": {
        "colab": {
          "base_uri": "https://localhost:8080/"
        },
        "id": "CZNysPe8XH_E",
        "outputId": "ed08ac0d-7f90-4159-8032-7e631650b6bd"
      },
      "source": [
        "# Rx = y 풀기\n",
        "\n",
        "x = np.linalg.inv(R)@y\n",
        "\n",
        "print(\"x:\", x)\n",
        "print(np.shape(x))"
      ],
      "execution_count": null,
      "outputs": [
        {
          "output_type": "stream",
          "text": [
            "x: [ 1. -1.  2.]\n",
            "(3,)\n"
          ],
          "name": "stdout"
        }
      ]
    },
    {
      "cell_type": "markdown",
      "metadata": {
        "id": "iufaoHSeXcMD"
      },
      "source": [
        "## 선형시스템의 해 확인\n",
        "\n",
        "앞서 QR 분해를 이용해 구한 $\\mathbf{x}$가 선형시스템 $A\\mathbf{x} = \\mathbf{b}$의 해(solution)로서 알맞게 구한 것인지 검증하는 코드를 작성하시오."
      ]
    },
    {
      "cell_type": "code",
      "metadata": {
        "id": "IJ8LT6rMLY6M",
        "colab": {
          "base_uri": "https://localhost:8080/"
        },
        "outputId": "b0f534a3-95d0-4d75-ffe7-03834dc3d0b4"
      },
      "source": [
        "## 결과 검증\n",
        "\n",
        "bb = A@x\n",
        "\n",
        "if np.allclose(b, bb):\n",
        "  print(\"Ok\")\n",
        "else:\n",
        "  print(\"something wrong\")"
      ],
      "execution_count": null,
      "outputs": [
        {
          "output_type": "stream",
          "text": [
            "Ok\n"
          ],
          "name": "stdout"
        }
      ]
    }
  ]
}