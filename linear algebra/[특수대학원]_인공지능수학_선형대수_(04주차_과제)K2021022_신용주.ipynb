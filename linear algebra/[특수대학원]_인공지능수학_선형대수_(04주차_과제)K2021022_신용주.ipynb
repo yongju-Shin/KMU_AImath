{
  "nbformat": 4,
  "nbformat_minor": 0,
  "metadata": {
    "colab": {
      "provenance": []
    },
    "kernelspec": {
      "name": "python3",
      "display_name": "Python 3"
    }
  },
  "cells": [
    {
      "cell_type": "markdown",
      "metadata": {
        "id": "Fn6NoDwPmhNs"
      },
      "source": [
        "# 과제 목표\n",
        "\n",
        "파이썬 numpy 패키지를 이용해 스칼라, 벡터, 행렬, 텐서 간의 변환을 수행하는 코드를 작성합니다.\n",
        "\n",
        "참고자료: [링크](https://numpy.org/doc/stable/reference/generated/numpy.reshape.html)"
      ]
    },
    {
      "cell_type": "code",
      "metadata": {
        "id": "kvcJK1GfTqxA"
      },
      "source": [
        "import numpy as np"
      ],
      "execution_count": null,
      "outputs": []
    },
    {
      "cell_type": "markdown",
      "metadata": {
        "id": "YT7lLpnEH6ec"
      },
      "source": [
        "##스칼라\n",
        "\n",
        "스칼라 $s$의 초기값을 3으로 정의하는 numpy 코드를 작성하시오."
      ]
    },
    {
      "cell_type": "code",
      "metadata": {
        "colab": {
          "base_uri": "https://localhost:8080/"
        },
        "id": "hzykFn8FH9yL",
        "outputId": "4929e96a-1150-45a1-b69b-32989997b9e3"
      },
      "source": [
        "# TODO\n",
        "s = 3\n",
        "\n",
        "print(\"s:\", s)\n",
        "print(np.shape(s))"
      ],
      "execution_count": null,
      "outputs": [
        {
          "output_type": "stream",
          "text": [
            "s: 3\n",
            "()\n"
          ],
          "name": "stdout"
        }
      ]
    },
    {
      "cell_type": "markdown",
      "metadata": {
        "id": "1Q8Jf6iWIXCD"
      },
      "source": [
        "### 스칼라 -> 벡터\n",
        "\n",
        "스칼라 $s$를 1-벡터 $\\mathbf{v}$로 변환하는 numpy 코드를 작성하시오."
      ]
    },
    {
      "cell_type": "code",
      "metadata": {
        "colab": {
          "base_uri": "https://localhost:8080/"
        },
        "id": "MujrmSLgIJ7p",
        "outputId": "39498af6-1578-4568-fbe5-67ab3a7bfe10"
      },
      "source": [
        "# TODO\n",
        "v = np.array([s])\n",
        "\n",
        "print(\"v:\", v)\n",
        "print(np.shape(v))"
      ],
      "execution_count": null,
      "outputs": [
        {
          "output_type": "stream",
          "text": [
            "v: [3]\n",
            "(1,)\n"
          ],
          "name": "stdout"
        }
      ]
    },
    {
      "cell_type": "markdown",
      "metadata": {
        "id": "Q2N37p6NOWqX"
      },
      "source": [
        "### 스칼라 -> 행렬\n",
        "\n",
        "스칼라 $s$를 1x1 행렬 $\\mathbf{A}$로 변환하는 numpy 코드를 작성하시오."
      ]
    },
    {
      "cell_type": "code",
      "metadata": {
        "colab": {
          "base_uri": "https://localhost:8080/"
        },
        "id": "vU0qN-cUOgEG",
        "outputId": "33bf69ec-5ce3-46a4-d4af-19cf84a57c61"
      },
      "source": [
        "# TODO\n",
        "A = np.array([[s]])\n",
        "\n",
        "print(\"A:\", A)\n",
        "print(np.shape(A))"
      ],
      "execution_count": null,
      "outputs": [
        {
          "output_type": "stream",
          "text": [
            "A: [[3]]\n",
            "(1, 1)\n"
          ],
          "name": "stdout"
        }
      ]
    },
    {
      "cell_type": "markdown",
      "metadata": {
        "id": "PExZuXDOOtei"
      },
      "source": [
        "### 스칼라 -> 3-텐서\n",
        "\n",
        "스칼라 $s$를 1x1x1 텐서 $\\mathbf{T}$로 변환하는 numpy 코드를 작성하시오."
      ]
    },
    {
      "cell_type": "code",
      "metadata": {
        "colab": {
          "base_uri": "https://localhost:8080/"
        },
        "id": "X6F13LvFOjQz",
        "outputId": "76a7787a-6b86-407c-c74d-37f9ba44ea8e"
      },
      "source": [
        "# TODO\n",
        "T = np.reshape(s,(1,1,1))\n",
        "\n",
        "print(\"T:\", T)\n",
        "print(np.shape(T))"
      ],
      "execution_count": null,
      "outputs": [
        {
          "output_type": "stream",
          "text": [
            "T: [[[3]]]\n",
            "(1, 1, 1)\n"
          ],
          "name": "stdout"
        }
      ]
    },
    {
      "cell_type": "markdown",
      "metadata": {
        "id": "GOvOE92EFTZy"
      },
      "source": [
        "## 벡터\n",
        "\n",
        "다음과 같은 초기값을 가지는 24-벡터 $\\mathbf{v}$를 정의하는 numpy 코드를 작성하시오.\n",
        "\n",
        "$$\n",
        "\\mathbf{v} = \n",
        "\\left[\n",
        "\\begin{array}{rrrrr}\n",
        " 1 &  2 &  \\cdots \\ 23 & 24\n",
        "\\end{array}\n",
        "\\right]\n",
        "$$"
      ]
    },
    {
      "cell_type": "code",
      "metadata": {
        "id": "SqWHFBWsT3K7",
        "colab": {
          "base_uri": "https://localhost:8080/"
        },
        "outputId": "c0a0a4e9-bee5-47cd-d82f-69932db97eaf"
      },
      "source": [
        "# 24-벡터\n",
        "# TODO\n",
        "v = np.arange(1,25)\n",
        "\n",
        "print(\"v:\", v)\n",
        "print(np.shape(v))"
      ],
      "execution_count": null,
      "outputs": [
        {
          "output_type": "stream",
          "text": [
            "v: [ 1  2  3  4  5  6  7  8  9 10 11 12 13 14 15 16 17 18 19 20 21 22 23 24]\n",
            "(24,)\n"
          ],
          "name": "stdout"
        }
      ]
    },
    {
      "cell_type": "markdown",
      "metadata": {
        "id": "8Heussxy9tpv"
      },
      "source": []
    },
    {
      "cell_type": "markdown",
      "metadata": {
        "id": "Qx_Um_GH55rF"
      },
      "source": [
        "### 벡터 -> 행렬\n",
        "\n",
        "24-벡터 $\\mathbf{v}$를 각각 1x24 행렬, 3x8 행렬, 6x4 행렬, 24x1 행렬 $\\mathbf{A}$로 변환하는 numpy 코드를 작성하시오."
      ]
    },
    {
      "cell_type": "code",
      "metadata": {
        "colab": {
          "base_uri": "https://localhost:8080/"
        },
        "id": "YYNV8UN-puA2",
        "outputId": "d5d59818-232d-40e4-8e16-d0d949424e9f"
      },
      "source": [
        "# 24-벡터 --> (1x24) 행렬\n",
        "# TODO\n",
        "A = np.array([v])\n",
        "\n",
        "print(\"A:\", A)\n",
        "print(\"A:\", np.shape(A))"
      ],
      "execution_count": null,
      "outputs": [
        {
          "output_type": "stream",
          "text": [
            "A: [[ 1  2  3  4  5  6  7  8  9 10 11 12 13 14 15 16 17 18 19 20 21 22 23 24]]\n",
            "A: (1, 24)\n"
          ],
          "name": "stdout"
        }
      ]
    },
    {
      "cell_type": "code",
      "metadata": {
        "colab": {
          "base_uri": "https://localhost:8080/"
        },
        "id": "YFVDrsxxh6gc",
        "outputId": "8b37c4ba-a9da-4b7a-b3e8-50ba1abd4177"
      },
      "source": [
        "# 24-벡터 --> (3x8) 행렬\n",
        "# TODO\n",
        "A = np.reshape(v,(3,8))\n",
        "\n",
        "print(\"A:\", A)\n",
        "print(\"A:\", np.shape(A))"
      ],
      "execution_count": null,
      "outputs": [
        {
          "output_type": "stream",
          "text": [
            "A: [[ 1  2  3  4  5  6  7  8]\n",
            " [ 9 10 11 12 13 14 15 16]\n",
            " [17 18 19 20 21 22 23 24]]\n",
            "A: (3, 8)\n"
          ],
          "name": "stdout"
        }
      ]
    },
    {
      "cell_type": "code",
      "metadata": {
        "colab": {
          "base_uri": "https://localhost:8080/"
        },
        "id": "Pjvr8_nmGB61",
        "outputId": "34e17129-d35b-42fc-d973-8f3118cf28a2"
      },
      "source": [
        "# 24-벡터 --> (6x4) 행렬\n",
        "# TODO\n",
        "A = np.reshape(v,(6,4))\n",
        "\n",
        "print(\"A:\", A)\n",
        "print(\"A:\", np.shape(A))"
      ],
      "execution_count": null,
      "outputs": [
        {
          "output_type": "stream",
          "text": [
            "A: [[ 1  2  3  4]\n",
            " [ 5  6  7  8]\n",
            " [ 9 10 11 12]\n",
            " [13 14 15 16]\n",
            " [17 18 19 20]\n",
            " [21 22 23 24]]\n",
            "A: (6, 4)\n"
          ],
          "name": "stdout"
        }
      ]
    },
    {
      "cell_type": "code",
      "metadata": {
        "colab": {
          "base_uri": "https://localhost:8080/"
        },
        "id": "rFok-TdTHJu1",
        "outputId": "1fe62798-c66c-49e1-c16c-ab1e81c09294"
      },
      "source": [
        "# 24-벡터 --> (24x1) 행렬\n",
        "\n",
        "# TODO\n",
        "A = np.reshape(v,(24,1))\n",
        "\n",
        "print(\"A:\", A)\n",
        "print(\"A:\", np.shape(A))"
      ],
      "execution_count": null,
      "outputs": [
        {
          "output_type": "stream",
          "text": [
            "A: [[ 1]\n",
            " [ 2]\n",
            " [ 3]\n",
            " [ 4]\n",
            " [ 5]\n",
            " [ 6]\n",
            " [ 7]\n",
            " [ 8]\n",
            " [ 9]\n",
            " [10]\n",
            " [11]\n",
            " [12]\n",
            " [13]\n",
            " [14]\n",
            " [15]\n",
            " [16]\n",
            " [17]\n",
            " [18]\n",
            " [19]\n",
            " [20]\n",
            " [21]\n",
            " [22]\n",
            " [23]\n",
            " [24]]\n",
            "A: (24, 1)\n"
          ],
          "name": "stdout"
        }
      ]
    },
    {
      "cell_type": "markdown",
      "metadata": {
        "id": "GOooXNMhGmdA"
      },
      "source": [
        "### 벡터 -> 3-텐서\n",
        "\n",
        "24-벡터 $\\mathbf{v}$를 2x3x4 텐서 $\\mathbf{T}$로 변환하는 numpy 코드를 작성하시오."
      ]
    },
    {
      "cell_type": "code",
      "metadata": {
        "colab": {
          "base_uri": "https://localhost:8080/"
        },
        "id": "lTuKQJHwGkaL",
        "outputId": "e86a0421-cb75-431a-c26b-82ed97fa78e5"
      },
      "source": [
        "# 24-벡터 --> (2x3x4) 텐서 (즉, 2개의 (3x4)행렬)\n",
        "# TODO\n",
        "T = np.reshape(v,(2,3,4))\n",
        "\n",
        "print(\"T:\", T)\n",
        "print(\"T:\", np.shape(T))"
      ],
      "execution_count": null,
      "outputs": [
        {
          "output_type": "stream",
          "text": [
            "T: [[[ 1  2  3  4]\n",
            "  [ 5  6  7  8]\n",
            "  [ 9 10 11 12]]\n",
            "\n",
            " [[13 14 15 16]\n",
            "  [17 18 19 20]\n",
            "  [21 22 23 24]]]\n",
            "T: (2, 3, 4)\n"
          ],
          "name": "stdout"
        }
      ]
    },
    {
      "cell_type": "markdown",
      "metadata": {
        "id": "3Bl3v__7_uqi"
      },
      "source": [
        "### 벡터 -> 스칼라\n",
        "\n",
        "24-벡터 $\\mathbf{v}$의 모든 요소(element)를 합해, 스칼라 $s$로 나타내는 numpy 코드를 작성하시오."
      ]
    },
    {
      "cell_type": "code",
      "metadata": {
        "colab": {
          "base_uri": "https://localhost:8080/"
        },
        "id": "U2Eq5NVt_-wH",
        "outputId": "73ed2f47-6c44-4f8d-f4d8-3e6eeaa9a467"
      },
      "source": [
        "# TODO\n",
        "s = v.sum()\n",
        "\n",
        "print(s)"
      ],
      "execution_count": null,
      "outputs": [
        {
          "output_type": "stream",
          "text": [
            "300\n"
          ],
          "name": "stdout"
        }
      ]
    },
    {
      "cell_type": "markdown",
      "metadata": {
        "id": "fZcGqAtSSTKF"
      },
      "source": [
        "## 행렬\n",
        "\n",
        "다음의 4x3 행렬 $A$를 정의하는 numpy 코드를 작성하시오.\n",
        "\n",
        "$$ A = \n",
        "\\left[\n",
        "\\begin{array}{rrrr}\n",
        " 1 &  2 &  3 \\\\\n",
        " 4 &  5 &  6 \\\\\n",
        " 7 &  8 &  9 \\\\\n",
        "10 & 11 & 12 \\\\\n",
        "\\end{array}\n",
        "\\right]\n",
        "$$"
      ]
    },
    {
      "cell_type": "code",
      "metadata": {
        "colab": {
          "base_uri": "https://localhost:8080/"
        },
        "id": "gU2C9qydRgsU",
        "outputId": "2a378884-9cf9-4b3d-9d8d-435e686cf01c"
      },
      "source": [
        "# TODO\n",
        "A = np.array([[1,2,3],[4,5,6,],[7,8,9],[10,11,12]])\n",
        "\n",
        "print(A)\n",
        "print(np.shape(A))"
      ],
      "execution_count": null,
      "outputs": [
        {
          "output_type": "stream",
          "text": [
            "[[ 1  2  3]\n",
            " [ 4  5  6]\n",
            " [ 7  8  9]\n",
            " [10 11 12]]\n",
            "(4, 3)\n"
          ],
          "name": "stdout"
        }
      ]
    },
    {
      "cell_type": "markdown",
      "metadata": {
        "id": "gPp7RKZ7Sp_L"
      },
      "source": [
        "### 행렬 -> 3-텐서\n",
        "\n",
        "4x3 행렬 $A$를 2x3x2 텐서 $\\mathbf{T}$로 변환하는 numpy 코드를 작성하시오."
      ]
    },
    {
      "cell_type": "code",
      "metadata": {
        "colab": {
          "base_uri": "https://localhost:8080/"
        },
        "id": "jJe0Im38ACVz",
        "outputId": "d7f00d9a-fb64-43d4-e10d-6a81bfe0de6f"
      },
      "source": [
        "# 4x3 행렬 --> (2x3x2) 텐서\n",
        "# TODO\n",
        "T = np.reshape(A,(2,3,2))\n",
        "\n",
        "print(T)\n",
        "print(np.shape(T))"
      ],
      "execution_count": null,
      "outputs": [
        {
          "output_type": "stream",
          "text": [
            "[[[ 1  2]\n",
            "  [ 3  4]\n",
            "  [ 5  6]]\n",
            "\n",
            " [[ 7  8]\n",
            "  [ 9 10]\n",
            "  [11 12]]]\n",
            "(2, 3, 2)\n"
          ],
          "name": "stdout"
        }
      ]
    },
    {
      "cell_type": "markdown",
      "metadata": {
        "id": "pu1LEUrQTlBH"
      },
      "source": [
        "### 행렬 -> 벡터\n",
        "\n",
        "4x3 행렬 $A$를 12-벡터 $\\mathbf{v}$로 변환하는 numpy 코드를 작성하시오."
      ]
    },
    {
      "cell_type": "code",
      "metadata": {
        "colab": {
          "base_uri": "https://localhost:8080/"
        },
        "id": "Fg-9YGgUAgLc",
        "outputId": "ff8471b0-8b79-433d-b95a-2b45e99e1bef"
      },
      "source": [
        "# TODO\n",
        "v = np.reshape(A,(12,1))\n",
        "\n",
        "print(v)\n",
        "print(np.shape(v))"
      ],
      "execution_count": null,
      "outputs": [
        {
          "output_type": "stream",
          "text": [
            "[[ 1]\n",
            " [ 2]\n",
            " [ 3]\n",
            " [ 4]\n",
            " [ 5]\n",
            " [ 6]\n",
            " [ 7]\n",
            " [ 8]\n",
            " [ 9]\n",
            " [10]\n",
            " [11]\n",
            " [12]]\n",
            "(12, 1)\n"
          ],
          "name": "stdout"
        }
      ]
    },
    {
      "cell_type": "markdown",
      "metadata": {
        "id": "XoAZVgfyT2h8"
      },
      "source": [
        "### 행렬 -> 스칼라\n",
        "\n",
        "4x3 행렬 $A$의 모든 요소(element)를 합해, 스칼라 $s$로 나타내는 numpy 코드를 작성하시오."
      ]
    },
    {
      "cell_type": "code",
      "metadata": {
        "colab": {
          "base_uri": "https://localhost:8080/"
        },
        "id": "Z4DEh2rMAy46",
        "outputId": "c48f9095-8865-4f66-d446-107ae84b35a4"
      },
      "source": [
        "# TODO\n",
        "s = A.sum()\n",
        "\n",
        "print(s)\n",
        "print(np.shape(s))"
      ],
      "execution_count": null,
      "outputs": [
        {
          "output_type": "stream",
          "text": [
            "78\n",
            "()\n"
          ],
          "name": "stdout"
        }
      ]
    }
  ]
}