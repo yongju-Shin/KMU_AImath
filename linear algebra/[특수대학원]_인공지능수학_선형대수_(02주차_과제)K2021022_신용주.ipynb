{
  "nbformat": 4,
  "nbformat_minor": 0,
  "metadata": {
    "colab": {
      "provenance": []
    },
    "kernelspec": {
      "name": "python3",
      "display_name": "Python 3"
    }
  },
  "cells": [
    {
      "cell_type": "markdown",
      "metadata": {
        "id": "Fn6NoDwPmhNs"
      },
      "source": [
        "# 과제 목표\n",
        "\n",
        "파이썬 numpy 패키지를 이용해 주어진 행렬의 랭크(rank)를 구하는 코드를 작성합니다.\n",
        "\n",
        "참고자료: [링크](https://numpy.org/doc/stable/reference/generated/numpy.linalg.matrix_rank.html)"
      ]
    },
    {
      "cell_type": "markdown",
      "metadata": {
        "id": "T-kzn78qsK1W"
      },
      "source": [
        "## 행렬 $A$ 정의\n",
        "\n",
        "다음의 3x3 행렬 $A$를 정의하는 numpy 코드를 작성하시오.\n",
        "\n",
        "$$ A = \n",
        "\\left[\n",
        "\\begin{array}{rrr}\n",
        " 1 &  2 &  1 \\\\\n",
        " 1 &  2 &  3 \\\\\n",
        " 2 &  3 & -1\n",
        "\\end{array}\n",
        "\\right]\n",
        "$$"
      ]
    },
    {
      "cell_type": "code",
      "metadata": {
        "id": "kvcJK1GfTqxA"
      },
      "source": [
        "import numpy as np"
      ],
      "execution_count": null,
      "outputs": []
    },
    {
      "cell_type": "code",
      "metadata": {
        "id": "SqWHFBWsT3K7",
        "colab": {
          "base_uri": "https://localhost:8080/"
        },
        "outputId": "c044e155-f8e8-4e9a-c2ad-94656ffe0963"
      },
      "source": [
        "# 행렬 코딩\n",
        "\n",
        "## TODO\n",
        "A = np.array([[1,2,1],[1,2,3],[2,3,-1]])\n",
        "\n",
        "print(A)\n",
        "print(np.shape(A))"
      ],
      "execution_count": null,
      "outputs": [
        {
          "output_type": "stream",
          "text": [
            "[[ 1  2  1]\n",
            " [ 1  2  3]\n",
            " [ 2  3 -1]]\n",
            "(3, 3)\n"
          ],
          "name": "stdout"
        }
      ]
    },
    {
      "cell_type": "markdown",
      "metadata": {
        "id": "BZKBCNvtugaz"
      },
      "source": [
        "## 행렬 $A$의 랭크 계산\n",
        "앞서 정의한 행렬 $A$의 랭크(rank)를 계산하는 numpy 코드를 작성하시오."
      ]
    },
    {
      "cell_type": "code",
      "metadata": {
        "colab": {
          "base_uri": "https://localhost:8080/"
        },
        "id": "YFVDrsxxh6gc",
        "outputId": "82e5caa0-6205-4923-81a4-3884f02ba53a"
      },
      "source": [
        "# 랭크 계산\n",
        "\n",
        "## TODO\n",
        "from numpy.linalg import matrix_rank\n",
        "rank_A = matrix_rank(A)\n",
        "print(\"rank(A): \", rank_A)"
      ],
      "execution_count": null,
      "outputs": [
        {
          "output_type": "stream",
          "text": [
            "rank(A):  3\n"
          ],
          "name": "stdout"
        }
      ]
    },
    {
      "cell_type": "markdown",
      "metadata": {
        "id": "H6EsN_0ovDrW"
      },
      "source": [
        "## 행렬 $B$ 정의\n",
        "\n",
        "다음의 3x3 행렬 $B$를 정의하는 numpy 코드를 작성하시오.\n",
        "\n",
        "$$ B = \n",
        "\\left[\n",
        "\\begin{array}{rrr}\n",
        " 1 &  2 &  1 \\\\\n",
        " 1 &  2 &  3 \\\\\n",
        " 2 &  4 &  4\n",
        "\\end{array}\n",
        "\\right]\n",
        "$$"
      ]
    },
    {
      "cell_type": "code",
      "metadata": {
        "colab": {
          "base_uri": "https://localhost:8080/"
        },
        "id": "vE5nVm9uiAC_",
        "outputId": "251dd5db-62d5-43b5-8936-97c83458e44e"
      },
      "source": [
        "# 행렬 코딩\n",
        "\n",
        "## TODO\n",
        "B = np.array([[1,2,3],[1,2,3],[2,4,4]])\n",
        "\n",
        "print(B)\n",
        "print(np.shape(B))"
      ],
      "execution_count": null,
      "outputs": [
        {
          "output_type": "stream",
          "text": [
            "[[1 2 3]\n",
            " [1 2 3]\n",
            " [2 4 4]]\n",
            "(3, 3)\n"
          ],
          "name": "stdout"
        }
      ]
    },
    {
      "cell_type": "markdown",
      "metadata": {
        "id": "5LyhlkgdvgB5"
      },
      "source": [
        "## 행렬 $B$의 랭크 계산\n",
        "앞서 정의한 행렬 $B$의 랭크(rank)를 계산하는 numpy 코드를 작성하시오."
      ]
    },
    {
      "cell_type": "code",
      "metadata": {
        "colab": {
          "base_uri": "https://localhost:8080/"
        },
        "id": "BcrQWuJ3iaFr",
        "outputId": "fb38d25e-2016-481a-b7ed-71a47990467f"
      },
      "source": [
        "# 랭크 계산\n",
        "\n",
        "## TODO\n",
        "from numpy.linalg import matrix_rank\n",
        "rank_B = matrix_rank(B)\n",
        "\n",
        "print(\"rank(B): \", rank_B)"
      ],
      "execution_count": null,
      "outputs": [
        {
          "output_type": "stream",
          "text": [
            "rank(B):  2\n"
          ],
          "name": "stdout"
        }
      ]
    },
    {
      "cell_type": "markdown",
      "metadata": {
        "id": "fkldMi0kOPYT"
      },
      "source": []
    },
    {
      "cell_type": "markdown",
      "metadata": {
        "id": "BOfmDAiFwSdl"
      },
      "source": [
        "## 랭크의 의미 이해하기\n",
        "\n",
        "거의 유사한 행렬 $A$와 $B$가 서로 다른 랭크가 나오는 것을 확인하였다. 특히, 행렬 $B$는 랭크가 3보다 적은 수로 나온다. \n",
        "\n",
        "행렬 $B$의 랭크가 3이 나오지 않는 그 이유를 설명하시오."
      ]
    },
    {
      "cell_type": "markdown",
      "metadata": {
        "id": "op4yp2W52WPc"
      },
      "source": [
        "### [정답 작성란] B행렬을 전방소거법으로 풀이 하였을때 값을 가진 행의 갯수가 2개가 된다.  \n"
      ]
    }
  ]
}