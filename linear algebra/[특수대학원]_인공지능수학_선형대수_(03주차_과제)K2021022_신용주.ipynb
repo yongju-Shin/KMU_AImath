{
  "nbformat": 4,
  "nbformat_minor": 0,
  "metadata": {
    "colab": {
      "provenance": []
    },
    "kernelspec": {
      "name": "python3",
      "display_name": "Python 3"
    }
  },
  "cells": [
    {
      "cell_type": "markdown",
      "metadata": {
        "id": "Fn6NoDwPmhNs"
      },
      "source": [
        "# 과제 목표\n",
        "\n",
        "파이썬 numpy, scipy 패키지를 이용해 주어진 행렬에 대한 LU 분해를 구하는 코드를 작성합니다.\n",
        "\n",
        "참고자료: [링크](https://docs.scipy.org/doc/scipy/reference/generated/scipy.linalg.lu.html)"
      ]
    },
    {
      "cell_type": "markdown",
      "metadata": {
        "id": "T-kzn78qsK1W"
      },
      "source": [
        "## 행렬 $A$ 정의\n",
        "\n",
        "다음의 3x3 행렬 $A$를 정의하는 numpy 코드를 작성하시오.\n",
        "\n",
        "$$ A = \n",
        "\\left[\n",
        "\\begin{array}{rrr}\n",
        " 3 &  1 &  1 \\\\\n",
        " 1 & -2 & -1 \\\\\n",
        " 1 &  1 &  1\n",
        "\\end{array}\n",
        "\\right]\n",
        "$$"
      ]
    },
    {
      "cell_type": "markdown",
      "metadata": {
        "id": "d07cx5U-pdlu"
      },
      "source": []
    },
    {
      "cell_type": "code",
      "metadata": {
        "id": "kvcJK1GfTqxA"
      },
      "source": [
        "import numpy as np\n",
        "import scipy.linalg "
      ],
      "execution_count": null,
      "outputs": []
    },
    {
      "cell_type": "code",
      "metadata": {
        "id": "SqWHFBWsT3K7",
        "colab": {
          "base_uri": "https://localhost:8080/"
        },
        "outputId": "b823b36f-61de-4970-a332-85ed70008d08"
      },
      "source": [
        "# 행렬 코딩\n",
        "\n",
        "## TODO\n",
        "A = np.array([[3,1,1],[1,-2,-1],[1,1,1]])\n",
        "\n",
        "print(A)\n",
        "print(np.shape(A))"
      ],
      "execution_count": null,
      "outputs": [
        {
          "output_type": "stream",
          "text": [
            "[[ 3  1  1]\n",
            " [ 1 -2 -1]\n",
            " [ 1  1  1]]\n",
            "(3, 3)\n"
          ],
          "name": "stdout"
        }
      ]
    },
    {
      "cell_type": "markdown",
      "metadata": {
        "id": "BZKBCNvtugaz"
      },
      "source": [
        "## 행렬 $A$의 LU 분해 계산\n",
        "앞서 정의한 행렬 $A$에 대해 LU 분해, $A = PLU$를 수행하는 scipy 코드를 작성하시오."
      ]
    },
    {
      "cell_type": "code",
      "metadata": {
        "colab": {
          "base_uri": "https://localhost:8080/"
        },
        "id": "YFVDrsxxh6gc",
        "outputId": "39d04281-5b3f-4028-d558-a3fe6aeb5c18"
      },
      "source": [
        "# PLU 분해\n",
        "\n",
        "## TODO\n",
        "P, L, U = scipy.linalg.lu(A)\n",
        "\n",
        "print(\"P:\", P)\n",
        "print(\"L:\", L)\n",
        "print(\"U:\", U)\n",
        "\n",
        "AA = P @ L @ U\n",
        "print(\"AA:\", AA)"
      ],
      "execution_count": null,
      "outputs": [
        {
          "output_type": "stream",
          "text": [
            "P: [[1. 0. 0.]\n",
            " [0. 1. 0.]\n",
            " [0. 0. 1.]]\n",
            "L: [[ 1.          0.          0.        ]\n",
            " [ 0.33333333  1.          0.        ]\n",
            " [ 0.33333333 -0.28571429  1.        ]]\n",
            "U: [[ 3.          1.          1.        ]\n",
            " [ 0.         -2.33333333 -1.33333333]\n",
            " [ 0.          0.          0.28571429]]\n",
            "AA: [[ 3.  1.  1.]\n",
            " [ 1. -2. -1.]\n",
            " [ 1.  1.  1.]]\n"
          ],
          "name": "stdout"
        }
      ]
    },
    {
      "cell_type": "markdown",
      "metadata": {
        "id": "H6EsN_0ovDrW"
      },
      "source": [
        "## 벡터 정의\n",
        "다음의 3-벡터 $\\mathbf{b}$를 정의하는 numpy 코드를 작성하시오.\n",
        "$$ \\mathbf{b} = \n",
        "\\left[\n",
        "\\begin{array}{rrr}\n",
        " 4 \\\\\n",
        " 1 \\\\\n",
        " 2\n",
        "\\end{array}\n",
        "\\right]\n",
        "$$"
      ]
    },
    {
      "cell_type": "code",
      "metadata": {
        "colab": {
          "base_uri": "https://localhost:8080/"
        },
        "id": "vE5nVm9uiAC_",
        "outputId": "db7b7580-6607-4950-f92a-f0d18b7e70be"
      },
      "source": [
        "# 벡터 코딩\n",
        "\n",
        "## TODO\n",
        "b = np.array([4,1,2])\n",
        "\n",
        "print(b)\n",
        "print(np.shape(b))"
      ],
      "execution_count": null,
      "outputs": [
        {
          "output_type": "stream",
          "text": [
            "[4 1 2]\n",
            "(3,)\n"
          ],
          "name": "stdout"
        }
      ]
    },
    {
      "cell_type": "markdown",
      "metadata": {
        "id": "5LyhlkgdvgB5"
      },
      "source": [
        "## LU-분해를 이용해 선형시스템 $A \\mathbf{x} = \\mathbf{b}$ 풀기\n",
        "행렬 $A$에 대한 LU 분해를 이용해 $A\\mathbf{x} = \\mathbf{b}$를 계산하는 scipy 코드를 작성하시오."
      ]
    },
    {
      "cell_type": "code",
      "metadata": {
        "colab": {
          "base_uri": "https://localhost:8080/"
        },
        "id": "BcrQWuJ3iaFr",
        "outputId": "a314b275-3f83-4f6b-9fc4-db2045abead8"
      },
      "source": [
        "# LU 분해\n",
        "\n",
        "## TODO\n",
        "lu, piv = scipy.linalg.lu_factor(A)\n",
        "x = scipy.linalg.lu_solve((lu, piv), b)\n",
        "\n",
        "print(\"x:\", x)\n",
        "print(np.shape(x))"
      ],
      "execution_count": null,
      "outputs": [
        {
          "output_type": "stream",
          "text": [
            "x: [ 1. -1.  2.]\n",
            "(3,)\n"
          ],
          "name": "stdout"
        }
      ]
    },
    {
      "cell_type": "markdown",
      "metadata": {
        "id": "BH1Um2IG--OK"
      },
      "source": [
        "## 선형시스템의 해 확인\n",
        "\n",
        "앞서 LU 분해를 이용해 구한 $\\mathbf{x}$가 선형시스템 $A\\mathbf{x} = \\mathbf{b}$의 해(solution)로서 알맞게 구한 것인지 검증하는 코드를 작성하시오.\n",
        "\n",
        "방법: $A\\mathbf{x}$의 연산결과가 $\\mathbf{b}$와 충분히 가까운지를 검증한다. [참고자료: [링크](https://numpy.org/doc/stable/reference/generated/numpy.allclose.html)]"
      ]
    },
    {
      "cell_type": "code",
      "metadata": {
        "id": "zEavm3BznPMC",
        "colab": {
          "base_uri": "https://localhost:8080/"
        },
        "outputId": "ee8f58a5-9147-4367-818a-fff02736fa93"
      },
      "source": [
        "## 결과 검증\n",
        "\n",
        "# TODO\n",
        "bb = A @ x\n",
        "\n",
        "if np.allclose(b, bb):\n",
        "  print(\"Ok\")\n",
        "else:\n",
        "  print(\"something wrong\")"
      ],
      "execution_count": null,
      "outputs": [
        {
          "output_type": "stream",
          "text": [
            "Ok\n"
          ],
          "name": "stdout"
        }
      ]
    }
  ]
}